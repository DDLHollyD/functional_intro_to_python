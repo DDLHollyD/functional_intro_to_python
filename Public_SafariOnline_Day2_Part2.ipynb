{
  "nbformat": 4,
  "nbformat_minor": 0,
  "metadata": {
    "colab": {
      "name": "Public-SafariOnline-Day2-Part2.ipynb",
      "version": "0.3.2",
      "provenance": [],
      "collapsed_sections": [
        "4z0oo6mLb347",
        "lujOt1rIipPQ",
        "UCBAAf7jmxXB",
        "bxzeL-i0m2hB",
        "PlVk0ly3m8SH",
        "q7B3KpSfnCYo",
        "Hc2I3g2xnH3Y",
        "bDlM65z5nM0i",
        "UbbRv8cOnSHm",
        "f7PiVW0InZ2T",
        "iIZyMs6G9Sis",
        "3_LEwD9ykIuL",
        "z8HUZUfw_N38",
        "dGiZckQrC94p",
        "cedyx3sJ-hg-",
        "ZjxMqoubqtRv"
      ],
      "include_colab_link": true
    }
  },
  "cells": [
    {
      "cell_type": "markdown",
      "metadata": {
        "id": "view-in-github",
        "colab_type": "text"
      },
      "source": [
        "<a href=\"https://colab.research.google.com/github/noahgift/functional_intro_to_python/blob/master/Public_SafariOnline_Day2_Part2.ipynb\" target=\"_parent\"><img src=\"https://colab.research.google.com/assets/colab-badge.svg\" alt=\"Open In Colab\"/></a>"
      ]
    },
    {
      "metadata": {
        "id": "lHZc2G73byeK",
        "colab_type": "text"
      },
      "cell_type": "markdown",
      "source": [
        "# Essential Machine Learning and Exploratory Data Analysis with Python and Jupyter Notebook\n",
        "\n",
        "\n"
      ]
    },
    {
      "metadata": {
        "id": "4z0oo6mLb347",
        "colab_type": "text"
      },
      "cell_type": "markdown",
      "source": [
        "## Pragmatic AI Labs\n",
        "![alt text](https://paiml.com/images/logo_with_slogan_white_background.png)\n",
        "\n",
        "This notebook was produced by [Pragmatic AI Labs](https://paiml.com/).  You can continue learning about these topics by:\n",
        "\n",
        "*   Buying a copy of [Pragmatic AI: An Introduction to Cloud-Based Machine Learning](http://www.informit.com/store/pragmatic-ai-an-introduction-to-cloud-based-machine-9780134863917)\n",
        "*   Reading an online copy of [Pragmatic AI:Pragmatic AI: An Introduction to Cloud-Based Machine Learning](https://www.safaribooksonline.com/library/view/pragmatic-ai-an/9780134863924/)\n",
        "*  Watching video [Essential Machine Learning and AI with Python and Jupyter Notebook-Video-SafariOnline](https://www.safaribooksonline.com/videos/essential-machine-learning/9780135261118) on Safari Books Online.\n",
        "* Purchasing video [Essential Machine Learning and AI with Python and Jupyter Notebook- Purchase Video](http://www.informit.com/store/essential-machine-learning-and-ai-with-python-and-jupyter-9780135261095)\n",
        "*   Viewing more content at [noahgift.com](https://noahgift.com/)\n"
      ]
    },
    {
      "metadata": {
        "id": "KzmVOhVhb455",
        "colab_type": "code",
        "colab": {}
      },
      "cell_type": "code",
      "source": [
        ""
      ],
      "execution_count": 0,
      "outputs": []
    },
    {
      "metadata": {
        "id": "lujOt1rIipPQ",
        "colab_type": "text"
      },
      "cell_type": "markdown",
      "source": [
        "## Part 2.2:  AWS Cloud-Native Python for ML/AI (45 Minutes)\n",
        "\n",
        "* *[Read related material covered in Chapter 5 of Pragmatic AI](https://www.safaribooksonline.com/library/view/pragmatic-ai-an/9780134863924/ch05.xhtml#ch05)*\n",
        "\n",
        "* *[Watch Video Lesson 11:  Python based AWS Cloud ML and AI Pipelines](https://www.safaribooksonline.com/videos/essential-machine-learning/9780135261118/9780135261118-EMLA_01_11_00)*\n",
        "\n",
        "* Introducing AWS Web Services:  Creating accounts, Creating Users and Using Amazon S3 \n",
        "* Using Boto \n",
        "* Starting development with AWS Python Lambda development with Chalice \n",
        "* Using of AWS DynamoDB \n",
        "* Using of Step functions with AWS \n",
        "* Using of AWS Batch for ML Jobs \n",
        "* Using AWS Sagemaker for Deep Learning Jobs \n",
        "* Using AWS Comprehend for NLP \n",
        "* Using AWS Image Recognition API \n"
      ]
    },
    {
      "metadata": {
        "id": "UCBAAf7jmxXB",
        "colab_type": "text"
      },
      "cell_type": "markdown",
      "source": [
        "#### Introducing AWS Web Services\n",
        "\n",
        "* *[Watch Video Lesson 11.1:  Use AWS Web Services](https://www.safaribooksonline.com/videos/essential-machine-learning/9780135261118/9780135261118-EMLA_01_11_01)*\n",
        "\n",
        "Creating accounts, Creating Users and Using Amazon S3\n",
        "\n",
        "\n",
        "**Resources:**\n",
        "\n",
        "* [AWS Web Services Console](https://aws.amazon.com/)\n",
        "\n",
        "![alt text](https://d1.awsstatic.com/global-infrastructure/maps/GI-map_20180509.67c18e15870ce65aadf8deea82a14b1fa32b1f5c.png)\n",
        "\n",
        "\n"
      ]
    },
    {
      "metadata": {
        "id": "G4qcjvZG5j2h",
        "colab_type": "text"
      },
      "cell_type": "markdown",
      "source": [
        ""
      ]
    },
    {
      "metadata": {
        "id": "bxzeL-i0m2hB",
        "colab_type": "text"
      },
      "cell_type": "markdown",
      "source": [
        "#### Using Boto\n",
        "\n",
        "* *[Watch Video Lesson 11.2:  Use Boto](https://www.safaribooksonline.com/videos/essential-machine-learning/9780135261118/9780135261118-EMLA_01_11_02)*\n",
        "\n",
        "\n"
      ]
    },
    {
      "metadata": {
        "id": "h61Ho2JH2I_4",
        "colab_type": "text"
      },
      "cell_type": "markdown",
      "source": [
        "\n",
        "![alt text](https://d1.awsstatic.com/whiteboard-graphics/aws/icons/documentation.3469fb5fe7ea27f9268c9d3a882c639499805aee.png)\n",
        "\n",
        "**References:**\n",
        "\n",
        "*   [Interacting with S3 Github Project](https://github.com/noahgift/functional_intro_to_python/blob/master/notebooks/aws/aws.ipynb)\n",
        "*   AWS SDK for Python (https://aws.amazon.com/sdk-for-python/)\n",
        "\n",
        "```python\n",
        "import boto3\n",
        "resource = boto3.resource(\"s3\")\n",
        "resource.meta.client.download_file('testntest', 'nba_2017_endorsement_full_stats.csv',\n",
        "'/tmp/nba_2017_endorsement_full_stats.csv')\n",
        "```"
      ]
    },
    {
      "metadata": {
        "id": "6mQTbtMim28M",
        "colab_type": "code",
        "colab": {}
      },
      "cell_type": "code",
      "source": [
        ""
      ],
      "execution_count": 0,
      "outputs": []
    },
    {
      "metadata": {
        "id": "PlVk0ly3m8SH",
        "colab_type": "text"
      },
      "cell_type": "markdown",
      "source": [
        "#### Starting development with AWS Python Lambda development with Chalice\n",
        "\n",
        "* *[Watch Video Lesson 11.3:  Use AWS Lambda development with Chalice](https://www.safaribooksonline.com/videos/essential-machine-learning/9780135261118/9780135261118-EMLA_01_11_03)*\n",
        "\n"
      ]
    },
    {
      "metadata": {
        "id": "RS4-D7b72XwE",
        "colab_type": "text"
      },
      "cell_type": "markdown",
      "source": [
        "***Demo on Sagemaker Terminal***\n",
        "\n",
        "https://github.com/aws/chalice\n",
        "\n",
        "*Hello World Example:*\n",
        "\n",
        "```python\n",
        "$ pip install chalice\n",
        "$ chalice new-project helloworld && cd helloworld\n",
        "$ cat app.py\n",
        "\n",
        "from chalice import Chalice\n",
        "\n",
        "app = Chalice(app_name=\"helloworld\")\n",
        "\n",
        "@app.route(\"/\")\n",
        "def index():\n",
        "    return {\"hello\": \"world\"}\n",
        "\n",
        "$ chalice deploy\n",
        "...\n",
        "https://endpoint/dev\n",
        "\n",
        "$ curl https://endpoint/api\n",
        "{\"hello\": \"world\"}\n",
        "```\n",
        "\n",
        "References:\n",
        "\n",
        "[Serverless Web Scraping Project](https://github.com/noahgift/web_scraping_python)"
      ]
    },
    {
      "metadata": {
        "id": "q7B3KpSfnCYo",
        "colab_type": "text"
      },
      "cell_type": "markdown",
      "source": [
        "#### Using AWS DynamoDB\n",
        "\n",
        "* *[Watch Video Lesson 11.4:  Use AWS DynamoDB](https://www.safaribooksonline.com/videos/essential-machine-learning/9780135261118/9780135261118-EMLA_01_11_04)*"
      ]
    },
    {
      "metadata": {
        "id": "2cheDvcB2x02",
        "colab_type": "text"
      },
      "cell_type": "markdown",
      "source": [
        "https://aws.amazon.com/dynamodb/\n",
        "\n",
        "![alt text](https://d1.awsstatic.com/video-thumbs/dynamodb/AWS-online-games-wide.ada4247744e9be9a6d857b2e13b7eb78b18bf3a5.png)\n",
        "\n",
        "Query Example:\n",
        "\n",
        "```python\n",
        "def query_police_department_record_by_guid(guid):\n",
        "    \"\"\"Gets one record in the PD table by guid\n",
        "    \n",
        "    In [5]: rec = query_police_department_record_by_guid(\n",
        "        \"7e607b82-9e18-49dc-a9d7-e9628a9147ad\"\n",
        "        )\n",
        "    \n",
        "    In [7]: rec\n",
        "    Out[7]: \n",
        "    {'PoliceDepartmentName': 'Hollister',\n",
        "     'UpdateTime': 'Fri Mar  2 12:43:43 2018',\n",
        "     'guid': '7e607b82-9e18-49dc-a9d7-e9628a9147ad'}\n",
        "    \"\"\"\n",
        "    \n",
        "    db = dynamodb_resource()\n",
        "    extra_msg = {\"region_name\": REGION, \"aws_service\": \"dynamodb\", \n",
        "        \"police_department_table\":POLICE_DEPARTMENTS_TABLE,\n",
        "        \"guid\":guid}\n",
        "    log.info(f\"Get PD record by GUID\", extra=extra_msg)\n",
        "    pd_table = db.Table(POLICE_DEPARTMENTS_TABLE)\n",
        "    response = pd_table.get_item(\n",
        "        Key={\n",
        "            'guid': guid\n",
        "            }\n",
        "    )\n",
        "    return response['Item']\n",
        "```\n"
      ]
    },
    {
      "metadata": {
        "id": "Hc2I3g2xnH3Y",
        "colab_type": "text"
      },
      "cell_type": "markdown",
      "source": [
        "#### Using Step functions with AWS\n",
        "\n",
        "* *[Watch Video Lesson 11.5:  Use AWS Step Functions](https://www.safaribooksonline.com/videos/essential-machine-learning/9780135261118/9780135261118-EMLA_01_11_05)*"
      ]
    },
    {
      "metadata": {
        "id": "316vRqUj3ELe",
        "colab_type": "text"
      },
      "cell_type": "markdown",
      "source": [
        "https://aws.amazon.com/step-functions/\n",
        "\n",
        "![Step Functions](https://d1.awsstatic.com/product-marketing/Step%20Functions/AmazonCloudWatchUpdated4.a57e968b08739e170aa504feed8db3761de21e60.png)\n",
        "\n",
        "Example Project:\n",
        "\n",
        "https://github.com/noahgift/web_scraping_python"
      ]
    },
    {
      "metadata": {
        "id": "bDlM65z5nM0i",
        "colab_type": "text"
      },
      "cell_type": "markdown",
      "source": [
        "#### Using AWS Batch for ML Jobs\n",
        "\n",
        "* *[Watch Video Lesson 11.6:  Use AWS Batch for ML Jobs](https://www.safaribooksonline.com/videos/essential-machine-learning/9780135261118/9780135261118-EMLA_01_11_06)*\n"
      ]
    },
    {
      "metadata": {
        "id": "gn6fah4M4Sa1",
        "colab_type": "text"
      },
      "cell_type": "markdown",
      "source": [
        "https://aws.amazon.com/batch/\n",
        "\n",
        "![alt text](https://d1.awsstatic.com/Test%20Images/Kate%20Test%20Images/Dilithium-Diagrams_Visual-Effects-Rendering.ad9c0479c3772c67953e96ef8ae76a5095373d81.png)\n",
        "\n",
        "\n",
        "Example submissions tool\n",
        "\n",
        "```python\n",
        "@cli.group()\n",
        "def run():\n",
        "    \"\"\"Run AWS Batch\"\"\"\n",
        "\n",
        "@run.command(\"submit\")\n",
        "@click.option(\"--queue\", default=\"first-run-job-queue\", help=\"Batch Queue\")\n",
        "@click.option(\"--jobname\", default=\"1\", help=\"Name of Job\")\n",
        "@click.option(\"--jobdef\", default=\"test\", help=\"Job Definition\")\n",
        "@click.option(\"--cmd\", default=[\"uname\"], help=\"Container Override Commands\")\n",
        "def submit(queue, jobname, jobdef, cmd):\n",
        "    \"\"\"Submit a job\"\"\"\n",
        "\n",
        "    result = submit_job(\n",
        "        job_name=jobname,\n",
        "        job_queue=queue,\n",
        "        job_definition=jobdef,\n",
        "        command=cmd\n",
        "    )\n",
        "    click.echo(\"CLI:  Run Job Called\")\n",
        "    return result\n",
        "```"
      ]
    },
    {
      "metadata": {
        "id": "UbbRv8cOnSHm",
        "colab_type": "text"
      },
      "cell_type": "markdown",
      "source": [
        "#### Using AWS Sagemaker \n",
        "\n",
        "* *[Watch Video Lesson 11.7:  Use AWS Sagemaker](https://www.safaribooksonline.com/videos/essential-machine-learning/9780135261118/9780135261118-EMLA_01_11_07)*\n",
        "\n",
        "\n"
      ]
    },
    {
      "metadata": {
        "id": "E8O9X_cP4m0m",
        "colab_type": "text"
      },
      "cell_type": "markdown",
      "source": [
        "![Sagemaker Lifecycle](https://d2908q01vomqb2.cloudfront.net/da4b9237bacccdf19c0760cab7aec4a8359010b0/2017/11/29/please_work.png)\n",
        "\n",
        "Fully-managed service that enables data scientists and developers to quickly and easily build, train and deploy machine learning models.\n",
        "\n",
        "https://aws.amazon.com/sagemaker/\n",
        "\n",
        "*   Hosted Jupyter Notebooks\n",
        "*   Model Training\n",
        "*   Model Hosting\n"
      ]
    },
    {
      "metadata": {
        "id": "z1fhFFvCnSZD",
        "colab_type": "code",
        "colab": {}
      },
      "cell_type": "code",
      "source": [
        ""
      ],
      "execution_count": 0,
      "outputs": []
    },
    {
      "metadata": {
        "id": "f7PiVW0InZ2T",
        "colab_type": "text"
      },
      "cell_type": "markdown",
      "source": [
        "#### Using AWS Comprehend for NLP\n",
        "\n",
        "* [Watch Video Lesson 11.8:  Use AWS Comprehend for NLP](https://www.safaribooksonline.com/videos/essential-machine-learning/9780135261118/9780135261118-EMLA_01_11_08)"
      ]
    },
    {
      "metadata": {
        "id": "i8rccPwY5xLm",
        "colab_type": "text"
      },
      "cell_type": "markdown",
      "source": [
        "https://aws.amazon.com/comprehend/\n",
        "\n",
        "![alt text](https://d1.awsstatic.com/serverless/Serverless%20Migration/SemanticSearch@2x.487eb9f1abf658ccbf682d0f14aa9d8a0e5da635.png)\n",
        "\n",
        "Example Project:\n",
        "\n",
        "https://github.com/noahgift/recommendations/blob/master/notebooks/NLP_AWS.ipynb\n",
        "\n",
        "\n",
        "Example Code:\n",
        "\n",
        "```python\n",
        "import pandas as pd\n",
        "import boto3\n",
        "\n",
        "comprehend = boto3.client(service_name='comprehend')\n",
        "```"
      ]
    },
    {
      "metadata": {
        "id": "FyQuGIbQnj4E",
        "colab_type": "text"
      },
      "cell_type": "markdown",
      "source": [
        "#### Using AWS Image Rekognition API\n",
        "\n"
      ]
    },
    {
      "metadata": {
        "id": "wPbmY4u86Gv4",
        "colab_type": "text"
      },
      "cell_type": "markdown",
      "source": [
        "* *[Watch Video Lesson 11.9:  Use AWS Rekognition API](https://www.safaribooksonline.com/videos/essential-machine-learning/9780135261118/9780135261118-EMLA_01_11_09)*"
      ]
    },
    {
      "metadata": {
        "id": "tpkfaZU86NVH",
        "colab_type": "text"
      },
      "cell_type": "markdown",
      "source": [
        "https://aws.amazon.com/rekognition/\n",
        "\n",
        "![alt text](https://d1.awsstatic.com/diagrams/product-page-diagrams/Rekognition_1.124a4700e5288f3947c7ea370c9844f09607849e.png)\n",
        "\n",
        "uploaded image:\n",
        "\n",
        "![alt text](https://user-images.githubusercontent.com/58792/40987724-27db5d0e-689e-11e8-917c-7160ad85c344.png)"
      ]
    },
    {
      "metadata": {
        "id": "iIZyMs6G9Sis",
        "colab_type": "text"
      },
      "cell_type": "markdown",
      "source": [
        "## Homework & Bonus Items\n",
        "\n",
        "Recommended followup items to study later"
      ]
    },
    {
      "metadata": {
        "id": "3_LEwD9ykIuL",
        "colab_type": "text"
      },
      "cell_type": "markdown",
      "source": [
        "### Software Carpentery (Bonus Material #1)\n",
        "\n",
        "A little bit of attention to detail with data science software carpentery, can save a lot of time in the future.\n",
        "\n",
        "* *[Watch Video Lesson 7:  Learning Software Carpentry](https://www.safaribooksonline.com/videos/essential-machine-learning/9780135261118/9780135261118-EMLA_01_07_00)*"
      ]
    },
    {
      "metadata": {
        "id": "omJYo7fx6nin",
        "colab_type": "text"
      },
      "cell_type": "markdown",
      "source": [
        "**Sub-lessons**\n",
        "\n",
        "* *[Watch Video Lesson 7.2: Using Git and Github to manage changes](https://www.safaribooksonline.com/videos/essential-machine-learning/9780135261118/9780135261118-EMLA_01_07_02)*\n",
        "*  *[Watch Video Lesson 7.3:  Using CircleCI to build and test project sourced from Github](https://www.safaribooksonline.com/videos/essential-machine-learning/9780135261118/9780135261118-EMLA_01_07_03)*\n",
        "*  *[Watch Video Lesson 7.4:  Using Static Analysis and Testing tools: Pylint and Pytest](https://www.safaribooksonline.com/videos/essential-machine-learning/9780135261118/9780135261118-EMLA_01_07_04)*\n",
        "*  *[Watch Video Lesson 7.5:  Test Jupyter Notebook](https://www.safaribooksonline.com/videos/essential-machine-learning/9780135261118/9780135261118-EMLA_01_07_05)*\n",
        "\n",
        "**Resources**\n",
        "\n",
        "* Go through this repo in detail:  https://github.com/noahgift/myrepo"
      ]
    },
    {
      "metadata": {
        "id": "z8HUZUfw_N38",
        "colab_type": "text"
      },
      "cell_type": "markdown",
      "source": [
        "### Creating a Data Engineering API with Flask and Pandas (Bonus Material #2)\n",
        "\n",
        "Learn how to create a real-world production API\n",
        "\n",
        "* *[Watch Video Lesson 8:  Creating a Data Engineering API with Flask and Pandas](https://www.safaribooksonline.com/videos/essential-machine-learning/9780135261118/9780135261118-EMLA_01_08_00)*"
      ]
    },
    {
      "metadata": {
        "id": "cydVVs6pAISb",
        "colab_type": "text"
      },
      "cell_type": "markdown",
      "source": [
        "**Resources**\n",
        "\n",
        "* [Data Engineering API Example Project](https://github.com/noahgift/pai-aws)\n",
        "\n",
        "\n",
        "\n",
        "![alt text](https://user-images.githubusercontent.com/58792/37561928-cf57944a-2a18-11e8-8f97-3d1e1cda4041.png)"
      ]
    },
    {
      "metadata": {
        "id": "dGiZckQrC94p",
        "colab_type": "text"
      },
      "cell_type": "markdown",
      "source": [
        "### Creating Command-line Machine Learning Tools (Bonus Material #3)\n",
        "\n",
        "Learn how to create command-line Machine Learning Tools\n",
        "\n",
        "* *[Watch Video Lesson 13: Creating Command-line Machine Learning Tools](https://www.safaribooksonline.com/videos/essential-machine-learning/9780135261118/9780135261118-EMLA_01_13_00)*"
      ]
    },
    {
      "metadata": {
        "id": "cSkcgDKNDe40",
        "colab_type": "text"
      },
      "cell_type": "markdown",
      "source": [
        "**Resources**\n",
        "\n",
        "* [Explore Developer and Team Statistic Tools Repo](https://github.com/noahgift/devml)\n",
        "\n",
        " - Look at pypi deployment code:  https://github.com/noahgift/devml/blob/master/Makefile#L11 \n",
        "\n",
        "\n",
        "* [Explore Machine Learning for Spot Prices Repo](https://github.com/noahgift/spot_price_machine_learning)"
      ]
    },
    {
      "metadata": {
        "id": "FV4emO3GC94r",
        "colab_type": "text"
      },
      "cell_type": "markdown",
      "source": [
        "**Resources**\n",
        "\n",
        "* [Data Engineering API Example Project](https://github.com/noahgift/pai-aws)\n",
        "\n",
        "\n",
        "\n",
        "![alt text](https://user-images.githubusercontent.com/58792/37561928-cf57944a-2a18-11e8-8f97-3d1e1cda4041.png)"
      ]
    },
    {
      "metadata": {
        "id": "cedyx3sJ-hg-",
        "colab_type": "text"
      },
      "cell_type": "markdown",
      "source": [
        "### Managed Machine Learning Systems and Internet of things (Bonus Material #4)\n",
        "\n"
      ]
    },
    {
      "metadata": {
        "id": "D8NOaKHl-vlE",
        "colab_type": "text"
      },
      "cell_type": "markdown",
      "source": [
        "Description: *Learn the building blocks of Managed ML and Hardware AI with Python*\n",
        "\n",
        "\n",
        "* [Explore Colab Notebooks on Managed ML and Hardware AI](https://github.com/noahgift/managed_ml_systems_and_iot#colab-noteboks)\n",
        "* [Attend an upcoming Live Training](https://www.safaribooksonline.com/search/?query=noah%20gift)"
      ]
    },
    {
      "metadata": {
        "id": "fQhEoJu1tNRe",
        "colab_type": "text"
      },
      "cell_type": "markdown",
      "source": [
        "## References"
      ]
    },
    {
      "metadata": {
        "id": "u6BaXDS7tQTD",
        "colab_type": "text"
      },
      "cell_type": "markdown",
      "source": [
        "*   [Pragmatic AI: An Introduction to Cloud-Based Machine Learning-Physical Book](http://www.informit.com/store/pragmatic-ai-an-introduction-to-cloud-based-machine-9780134863917)\n",
        "*   [Pragmatic AI: Pragmatic AI: An Introduction to Cloud-Based Machine Learning-SafariOnline Book](https://www.safaribooksonline.com/library/view/pragmatic-ai-an/9780134863924/)\n",
        "*  [Essential Machine Learning and AI with Python and Jupyter Notebook-Video-SafariOnline](https://www.safaribooksonline.com/videos/essential-machine-learning/9780135261118)\n",
        "* [Essential Machine Learning and AI with Python and Jupyter Notebook- Purchase Video](http://www.informit.com/store/essential-machine-learning-and-ai-with-python-and-jupyter-9780135261095)\n",
        "*   [noahgift.com](https://noahgift.com/)\n",
        "*   [paiml.com](https://paiml.com/)\n",
        "*   [Writing clean, testable, high quality code in Python](https://www.ibm.com/developerworks/aix/library/au-cleancode/index.html)"
      ]
    },
    {
      "metadata": {
        "id": "eI6ymSetqojC",
        "colab_type": "text"
      },
      "cell_type": "markdown",
      "source": [
        "## FAQ"
      ]
    },
    {
      "metadata": {
        "id": "ZjxMqoubqtRv",
        "colab_type": "text"
      },
      "cell_type": "markdown",
      "source": [
        "### Q:  TBD"
      ]
    },
    {
      "metadata": {
        "id": "9o9t7kgPqtuB",
        "colab_type": "text"
      },
      "cell_type": "markdown",
      "source": [
        "**Answer:  **  TBD"
      ]
    },
    {
      "metadata": {
        "id": "xP3EURO3rpH8",
        "colab_type": "code",
        "colab": {}
      },
      "cell_type": "code",
      "source": [
        ""
      ],
      "execution_count": 0,
      "outputs": []
    }
  ]
}