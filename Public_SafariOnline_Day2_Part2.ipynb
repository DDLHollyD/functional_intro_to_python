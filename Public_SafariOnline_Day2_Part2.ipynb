{
  "nbformat": 4,
  "nbformat_minor": 0,
  "metadata": {
    "colab": {
      "name": "Public-SafariOnline-Day2-Part2.ipynb",
      "version": "0.3.2",
      "provenance": [],
      "collapsed_sections": [
        "4z0oo6mLb347",
        "lujOt1rIipPQ",
        "UCBAAf7jmxXB",
        "bxzeL-i0m2hB",
        "PlVk0ly3m8SH",
        "q7B3KpSfnCYo",
        "Hc2I3g2xnH3Y",
        "bDlM65z5nM0i",
        "UbbRv8cOnSHm",
        "f7PiVW0InZ2T",
        "iIZyMs6G9Sis",
        "3_LEwD9ykIuL",
        "z8HUZUfw_N38",
        "dGiZckQrC94p",
        "cedyx3sJ-hg-",
        "ZjxMqoubqtRv"
      ],
      "include_colab_link": true
    }
  },
  "cells": [
    {
      "cell_type": "markdown",
      "metadata": {
        "id": "view-in-github",
        "colab_type": "text"
      },
      "source": [
        "<a href=\"https://colab.research.google.com/github/noahgift/functional_intro_to_python/blob/master/Public_SafariOnline_Day2_Part2.ipynb\" target=\"_parent\"><img src=\"https://colab.research.google.com/assets/colab-badge.svg\" alt=\"Open In Colab\"/></a>"
      ]
    },
    {
      "metadata": {
        "id": "lHZc2G73byeK",
        "colab_type": "text"
      },
      "cell_type": "markdown",
      "source": [
        "# Essential Machine Learning and Exploratory Data Analysis with Python and Jupyter Notebook\n",
        "\n",
        "\n"
      ]
    },
    {
      "metadata": {
        "id": "4z0oo6mLb347",
        "colab_type": "text"
      },
      "cell_type": "markdown",
      "source": [
        "## Pragmatic AI Labs\n",
        "![alt text](https://paiml.com/images/logo_with_slogan_white_background.png)\n",
        "\n",
        "This notebook was produced by [Pragmatic AI Labs](https://paiml.com/).  You can continue learning about these topics by:\n",
        "\n",
        "*   Buying a copy of [Pragmatic AI: An Introduction to Cloud-Based Machine Learning](http://www.informit.com/store/pragmatic-ai-an-introduction-to-cloud-based-machine-9780134863917)\n",
        "*   Reading an online copy of [Pragmatic AI:Pragmatic AI: An Introduction to Cloud-Based Machine Learning](https://www.safaribooksonline.com/library/view/pragmatic-ai-an/9780134863924/)\n",
        "*  Watching video [Essential Machine Learning and AI with Python and Jupyter Notebook-Video-SafariOnline](https://www.safaribooksonline.com/videos/essential-machine-learning/9780135261118) on Safari Books Online.\n",
        "* Purchasing video [Essential Machine Learning and AI with Python and Jupyter Notebook- Purchase Video](http://www.informit.com/store/essential-machine-learning-and-ai-with-python-and-jupyter-9780135261095)\n",
        "*   Viewing more content at [noahgift.com](https://noahgift.com/)\n"
      ]
    },
    {
      "metadata": {
        "id": "KzmVOhVhb455",
        "colab_type": "code",
        "colab": {}
      },
      "cell_type": "code",
      "source": [
        ""
      ],
      "execution_count": 0,
      "outputs": []
    },
    {
      "metadata": {
        "id": "lujOt1rIipPQ",
        "colab_type": "text"
      },
      "cell_type": "markdown",
      "source": [
        "## Part 2.2:  AWS Cloud-Native Python for ML/AI (45 Minutes)\n",
        "\n",
        "* *[Read related material covered in Chapter 5 of Pragmatic AI](https://www.safaribooksonline.com/library/view/pragmatic-ai-an/9780134863924/ch05.xhtml#ch05)*\n",
        "\n",
        "* *[Watch Video Lesson 11:  Python based AWS Cloud ML and AI Pipelines](https://www.safaribooksonline.com/videos/essential-machine-learning/9780135261118/9780135261118-EMLA_01_11_00)*\n",
        "\n"
      ]
    },
    {
      "metadata": {
        "id": "UCBAAf7jmxXB",
        "colab_type": "text"
      },
      "cell_type": "markdown",
      "source": [
        "### Introducing AWS Web Services\n",
        "\n",
        "* *[Watch Video Lesson 11.1:  Use AWS Web Services](https://www.safaribooksonline.com/videos/essential-machine-learning/9780135261118/9780135261118-EMLA_01_11_01)*\n",
        "\n",
        "Creating accounts, Creating Users and Using Amazon S3\n",
        "\n",
        "\n",
        "**Resources:**\n",
        "\n",
        "* [AWS Web Services Console](https://aws.amazon.com/)\n",
        "\n",
        "![alt text](https://d1.awsstatic.com/global-infrastructure/maps/GI-map_20180509.67c18e15870ce65aadf8deea82a14b1fa32b1f5c.png)\n",
        "\n",
        "\n"
      ]
    },
    {
      "metadata": {
        "id": "G4qcjvZG5j2h",
        "colab_type": "text"
      },
      "cell_type": "markdown",
      "source": [
        ""
      ]
    },
    {
      "metadata": {
        "id": "r5RRxQHwhMxO",
        "colab_type": "text"
      },
      "cell_type": "markdown",
      "source": [
        "### AWS Reinvent 2018 Recap\n",
        "\n",
        "![Reinvent](https://d1.awsstatic.com/webteam/homepage/editorials/Site-Merch_Reinvent-Promo-Product-Recap_Editorial-reInvent.6235ac5d7d3751ffe3cc24ad5503538219a651ee.png)"
      ]
    },
    {
      "metadata": {
        "id": "0T31pj9UiqNU",
        "colab_type": "text"
      },
      "cell_type": "markdown",
      "source": [
        "#### AWS ML Certification"
      ]
    },
    {
      "metadata": {
        "id": "mh5sP6GWixQ7",
        "colab_type": "text"
      },
      "cell_type": "markdown",
      "source": [
        "![ml certification path](https://d1.awsstatic.com/training-and-certification/Learning_Paths/ml-path_exam-prep_light.0d48656f11f8440d5c981b03a07f86cda2814058.png)"
      ]
    },
    {
      "metadata": {
        "id": "MpHgWjpoiqPB",
        "colab_type": "text"
      },
      "cell_type": "markdown",
      "source": [
        ""
      ]
    },
    {
      "metadata": {
        "id": "bq4VmHjPpMOR",
        "colab_type": "text"
      },
      "cell_type": "markdown",
      "source": [
        "### Load AWS API Keys (Colab Notebook)"
      ]
    },
    {
      "metadata": {
        "id": "aWrzIk7WpRoh",
        "colab_type": "text"
      },
      "cell_type": "markdown",
      "source": [
        "Put keys in local or remote GDrive:  \n",
        "\n",
        "`cp ~/.aws/credentials /Users/myname/Google\\ Drive/awsml/`"
      ]
    },
    {
      "metadata": {
        "id": "hPWO_zyRopXN",
        "colab_type": "text"
      },
      "cell_type": "markdown",
      "source": [
        "#### Mount GDrive\n"
      ]
    },
    {
      "metadata": {
        "id": "XI73HZNLobp4",
        "colab_type": "code",
        "outputId": "641e088c-fd8a-4452-9ddc-a66fb22988e3",
        "colab": {
          "base_uri": "https://localhost:8080/",
          "height": 125
        }
      },
      "cell_type": "code",
      "source": [
        "from google.colab import drive\n",
        "drive.mount('/content/gdrive', force_remount=True)"
      ],
      "execution_count": 0,
      "outputs": [
        {
          "output_type": "stream",
          "text": [
            "Go to this URL in a browser: https://accounts.google.com/o/oauth2/auth?client_id=947318989803-6bn6qk8qdgf4n4g3pfee6491hc0brc4i.apps.googleusercontent.com&redirect_uri=urn%3Aietf%3Awg%3Aoauth%3A2.0%3Aoob&scope=email%20https%3A%2F%2Fwww.googleapis.com%2Fauth%2Fdocs.test%20https%3A%2F%2Fwww.googleapis.com%2Fauth%2Fdrive%20https%3A%2F%2Fwww.googleapis.com%2Fauth%2Fdrive.photos.readonly%20https%3A%2F%2Fwww.googleapis.com%2Fauth%2Fpeopleapi.readonly&response_type=code\n",
            "\n",
            "Enter your authorization code:\n",
            "··········\n",
            "Mounted at /content/gdrive\n"
          ],
          "name": "stdout"
        }
      ]
    },
    {
      "metadata": {
        "id": "UNyzZwgmoxwm",
        "colab_type": "code",
        "outputId": "1be9ef3b-60bf-4aa7-918c-20c83341fe23",
        "colab": {
          "base_uri": "https://localhost:8080/",
          "height": 35
        }
      },
      "cell_type": "code",
      "source": [
        "import os;os.listdir(\"/content/gdrive/My Drive/awsml\")"
      ],
      "execution_count": 0,
      "outputs": [
        {
          "output_type": "execute_result",
          "data": {
            "text/plain": [
              "['kaggle.json', 'credentials', 'config']"
            ]
          },
          "metadata": {
            "tags": []
          },
          "execution_count": 2
        }
      ]
    },
    {
      "metadata": {
        "id": "fYu0ekUlqPk6",
        "colab_type": "text"
      },
      "cell_type": "markdown",
      "source": [
        "#### Install Boto"
      ]
    },
    {
      "metadata": {
        "id": "dJDDrUkWrYRY",
        "colab_type": "code",
        "colab": {}
      },
      "cell_type": "code",
      "source": [
        "!pip -q install boto3\n"
      ],
      "execution_count": 0,
      "outputs": []
    },
    {
      "metadata": {
        "id": "FpJhrpSQsK5E",
        "colab_type": "text"
      },
      "cell_type": "markdown",
      "source": [
        "#### Create API Config"
      ]
    },
    {
      "metadata": {
        "id": "QxRwGOZtsN0-",
        "colab_type": "code",
        "colab": {}
      },
      "cell_type": "code",
      "source": [
        "!mkdir -p ~/.aws &&\\\n",
        "  cp /content/gdrive/My\\ Drive/awsml/credentials ~/.aws/credentials "
      ],
      "execution_count": 0,
      "outputs": []
    },
    {
      "metadata": {
        "id": "Kj977UW3rph_",
        "colab_type": "text"
      },
      "cell_type": "markdown",
      "source": [
        "#### Test Comprehend API Call"
      ]
    },
    {
      "metadata": {
        "id": "P-A8Cia-raT0",
        "colab_type": "code",
        "outputId": "a64ec7f4-9659-4ce1-c637-523831331837",
        "colab": {
          "base_uri": "https://localhost:8080/",
          "height": 246
        }
      },
      "cell_type": "code",
      "source": [
        "import boto3\n",
        "comprehend = boto3.client(service_name='comprehend', region_name=\"us-east-1\")\n",
        "text = \"There is smoke in San Francisco and it makes me angry\"\n",
        "comprehend.detect_sentiment(Text=text, LanguageCode='en')"
      ],
      "execution_count": 0,
      "outputs": [
        {
          "output_type": "execute_result",
          "data": {
            "text/plain": [
              "{'ResponseMetadata': {'HTTPHeaders': {'connection': 'keep-alive',\n",
              "   'content-length': '164',\n",
              "   'content-type': 'application/x-amz-json-1.1',\n",
              "   'date': 'Tue, 04 Dec 2018 19:10:58 GMT',\n",
              "   'x-amzn-requestid': '54e64fc0-f7f8-11e8-8c3f-f109987ed7df'},\n",
              "  'HTTPStatusCode': 200,\n",
              "  'RequestId': '54e64fc0-f7f8-11e8-8c3f-f109987ed7df',\n",
              "  'RetryAttempts': 0},\n",
              " u'Sentiment': u'NEGATIVE',\n",
              " u'SentimentScore': {u'Mixed': 0.010819978080689907,\n",
              "  u'Negative': 0.9212133288383484,\n",
              "  u'Neutral': 0.06721948087215424,\n",
              "  u'Positive': 0.0007472822326235473}}"
            ]
          },
          "metadata": {
            "tags": []
          },
          "execution_count": 6
        }
      ]
    },
    {
      "metadata": {
        "id": "bxzeL-i0m2hB",
        "colab_type": "text"
      },
      "cell_type": "markdown",
      "source": [
        "### Using Boto\n",
        "\n",
        "* *[Watch Video Lesson 11.2:  Use Boto](https://www.safaribooksonline.com/videos/essential-machine-learning/9780135261118/9780135261118-EMLA_01_11_02)*\n",
        "\n",
        "\n"
      ]
    },
    {
      "metadata": {
        "id": "h61Ho2JH2I_4",
        "colab_type": "text"
      },
      "cell_type": "markdown",
      "source": [
        "\n",
        "![alt text](https://d1.awsstatic.com/whiteboard-graphics/aws/icons/documentation.3469fb5fe7ea27f9268c9d3a882c639499805aee.png)\n",
        "\n",
        "**References:**\n",
        "\n",
        "*   [Interacting with S3 Github Project](https://github.com/noahgift/functional_intro_to_python/blob/master/notebooks/aws/aws.ipynb)\n",
        "*   AWS SDK for Python (https://aws.amazon.com/sdk-for-python/)\n",
        "\n",
        "```python\n",
        "import boto3\n",
        "resource = boto3.resource(\"s3\")\n",
        "resource.meta.client.download_file('testntest', 'nba_2017_endorsement_full_stats.csv',\n",
        "'/tmp/nba_2017_endorsement_full_stats.csv')\n",
        "```"
      ]
    },
    {
      "metadata": {
        "id": "6mQTbtMim28M",
        "colab_type": "code",
        "colab": {}
      },
      "cell_type": "code",
      "source": [
        "import boto3\n",
        "resource = boto3.resource(\"s3\")\n",
        "resource.meta.client.download_file('testntest', 'nba_2017_endorsement_full_stats.csv',\n",
        "'/tmp/nba_2017_endorsement_full_stats.csv')"
      ],
      "execution_count": 0,
      "outputs": []
    },
    {
      "metadata": {
        "id": "u3erHX8aolFn",
        "colab_type": "code",
        "outputId": "5919eb9b-9f03-43e3-93fd-24bbcae9c168",
        "colab": {
          "base_uri": "https://localhost:8080/",
          "height": 87
        }
      },
      "cell_type": "code",
      "source": [
        "!ls -l /tmp"
      ],
      "execution_count": 0,
      "outputs": [
        {
          "output_type": "stream",
          "text": [
            "total 4\n",
            "srw------- 1 root root    0 Dec  4 19:08 drivefs_ipc.0\n",
            "srw------- 1 root root    0 Dec  4 19:09 drivefs_ipc.0_shell\n",
            "-rw-r--r-- 1 root root 1447 Dec  4 19:11 nba_2017_endorsement_full_stats.csv\n"
          ],
          "name": "stdout"
        }
      ]
    },
    {
      "metadata": {
        "id": "FC1HAjYGopuw",
        "colab_type": "code",
        "outputId": "d11a1e28-efac-4590-b211-9c6950eaad62",
        "colab": {
          "base_uri": "https://localhost:8080/",
          "height": 343
        }
      },
      "cell_type": "code",
      "source": [
        "import pandas as pd\n",
        "\n",
        "df = pd.read_csv(\"/tmp/nba_2017_endorsement_full_stats.csv\")\n",
        "df.head()\n"
      ],
      "execution_count": 0,
      "outputs": [
        {
          "output_type": "execute_result",
          "data": {
            "text/html": [
              "<div>\n",
              "<style scoped>\n",
              "    .dataframe tbody tr th:only-of-type {\n",
              "        vertical-align: middle;\n",
              "    }\n",
              "\n",
              "    .dataframe tbody tr th {\n",
              "        vertical-align: top;\n",
              "    }\n",
              "\n",
              "    .dataframe thead th {\n",
              "        text-align: right;\n",
              "    }\n",
              "</style>\n",
              "<table border=\"1\" class=\"dataframe\">\n",
              "  <thead>\n",
              "    <tr style=\"text-align: right;\">\n",
              "      <th></th>\n",
              "      <th>PLAYER</th>\n",
              "      <th>TEAM</th>\n",
              "      <th>SALARY_MILLIONS</th>\n",
              "      <th>ENDORSEMENT_MILLIONS</th>\n",
              "      <th>PCT_ATTENDANCE_STADIUM</th>\n",
              "      <th>ATTENDANCE_TOTAL_BY_10K</th>\n",
              "      <th>FRANCHISE_VALUE_100_MILLION</th>\n",
              "      <th>ELO_100X</th>\n",
              "      <th>CONF</th>\n",
              "      <th>POSITION</th>\n",
              "      <th>AGE</th>\n",
              "      <th>MP</th>\n",
              "      <th>GP</th>\n",
              "      <th>MPG</th>\n",
              "      <th>WINS_RPM</th>\n",
              "      <th>PLAYER_TEAM_WINS</th>\n",
              "      <th>WIKIPEDIA_PAGEVIEWS_10K</th>\n",
              "      <th>TWITTER_FAVORITE_COUNT_1K</th>\n",
              "    </tr>\n",
              "  </thead>\n",
              "  <tbody>\n",
              "    <tr>\n",
              "      <th>0</th>\n",
              "      <td>LeBron James</td>\n",
              "      <td>Cleveland Cavaliers</td>\n",
              "      <td>30.96</td>\n",
              "      <td>55.0</td>\n",
              "      <td>100.0</td>\n",
              "      <td>84.0</td>\n",
              "      <td>12.00</td>\n",
              "      <td>15.45</td>\n",
              "      <td>East</td>\n",
              "      <td>SF</td>\n",
              "      <td>32</td>\n",
              "      <td>37.8</td>\n",
              "      <td>74.0</td>\n",
              "      <td>37.8</td>\n",
              "      <td>20.43</td>\n",
              "      <td>51.0</td>\n",
              "      <td>14.70</td>\n",
              "      <td>5.53</td>\n",
              "    </tr>\n",
              "    <tr>\n",
              "      <th>1</th>\n",
              "      <td>Kevin Durant</td>\n",
              "      <td>Golden State Warriors</td>\n",
              "      <td>26.50</td>\n",
              "      <td>36.0</td>\n",
              "      <td>100.0</td>\n",
              "      <td>80.0</td>\n",
              "      <td>26.00</td>\n",
              "      <td>17.70</td>\n",
              "      <td>West</td>\n",
              "      <td>SF</td>\n",
              "      <td>28</td>\n",
              "      <td>33.4</td>\n",
              "      <td>62.0</td>\n",
              "      <td>33.4</td>\n",
              "      <td>12.24</td>\n",
              "      <td>51.0</td>\n",
              "      <td>6.29</td>\n",
              "      <td>1.43</td>\n",
              "    </tr>\n",
              "    <tr>\n",
              "      <th>2</th>\n",
              "      <td>James Harden</td>\n",
              "      <td>Houston Rockets</td>\n",
              "      <td>26.50</td>\n",
              "      <td>20.0</td>\n",
              "      <td>94.0</td>\n",
              "      <td>70.0</td>\n",
              "      <td>16.50</td>\n",
              "      <td>16.02</td>\n",
              "      <td>West</td>\n",
              "      <td>PG</td>\n",
              "      <td>27</td>\n",
              "      <td>36.4</td>\n",
              "      <td>81.0</td>\n",
              "      <td>36.4</td>\n",
              "      <td>15.54</td>\n",
              "      <td>54.0</td>\n",
              "      <td>3.28</td>\n",
              "      <td>0.97</td>\n",
              "    </tr>\n",
              "    <tr>\n",
              "      <th>3</th>\n",
              "      <td>Russell Westbrook</td>\n",
              "      <td>Oklahoma City Thunder</td>\n",
              "      <td>26.50</td>\n",
              "      <td>15.0</td>\n",
              "      <td>100.0</td>\n",
              "      <td>75.0</td>\n",
              "      <td>10.25</td>\n",
              "      <td>15.43</td>\n",
              "      <td>West</td>\n",
              "      <td>PG</td>\n",
              "      <td>28</td>\n",
              "      <td>34.6</td>\n",
              "      <td>81.0</td>\n",
              "      <td>34.6</td>\n",
              "      <td>17.34</td>\n",
              "      <td>46.0</td>\n",
              "      <td>4.28</td>\n",
              "      <td>2.13</td>\n",
              "    </tr>\n",
              "    <tr>\n",
              "      <th>4</th>\n",
              "      <td>Carmelo Anthony</td>\n",
              "      <td>New York Knicks</td>\n",
              "      <td>24.56</td>\n",
              "      <td>8.0</td>\n",
              "      <td>100.0</td>\n",
              "      <td>81.0</td>\n",
              "      <td>33.00</td>\n",
              "      <td>13.74</td>\n",
              "      <td>East</td>\n",
              "      <td>SF</td>\n",
              "      <td>32</td>\n",
              "      <td>34.3</td>\n",
              "      <td>74.0</td>\n",
              "      <td>34.3</td>\n",
              "      <td>5.26</td>\n",
              "      <td>29.0</td>\n",
              "      <td>3.77</td>\n",
              "      <td>0.72</td>\n",
              "    </tr>\n",
              "  </tbody>\n",
              "</table>\n",
              "</div>"
            ],
            "text/plain": [
              "              PLAYER                   TEAM  SALARY_MILLIONS  \\\n",
              "0       LeBron James    Cleveland Cavaliers            30.96   \n",
              "1       Kevin Durant  Golden State Warriors            26.50   \n",
              "2       James Harden        Houston Rockets            26.50   \n",
              "3  Russell Westbrook  Oklahoma City Thunder            26.50   \n",
              "4    Carmelo Anthony        New York Knicks            24.56   \n",
              "\n",
              "   ENDORSEMENT_MILLIONS  PCT_ATTENDANCE_STADIUM  ATTENDANCE_TOTAL_BY_10K  \\\n",
              "0                  55.0                   100.0                     84.0   \n",
              "1                  36.0                   100.0                     80.0   \n",
              "2                  20.0                    94.0                     70.0   \n",
              "3                  15.0                   100.0                     75.0   \n",
              "4                   8.0                   100.0                     81.0   \n",
              "\n",
              "   FRANCHISE_VALUE_100_MILLION  ELO_100X  CONF POSITION  AGE    MP    GP  \\\n",
              "0                        12.00     15.45  East       SF   32  37.8  74.0   \n",
              "1                        26.00     17.70  West       SF   28  33.4  62.0   \n",
              "2                        16.50     16.02  West       PG   27  36.4  81.0   \n",
              "3                        10.25     15.43  West       PG   28  34.6  81.0   \n",
              "4                        33.00     13.74  East       SF   32  34.3  74.0   \n",
              "\n",
              "    MPG  WINS_RPM  PLAYER_TEAM_WINS  WIKIPEDIA_PAGEVIEWS_10K  \\\n",
              "0  37.8     20.43              51.0                    14.70   \n",
              "1  33.4     12.24              51.0                     6.29   \n",
              "2  36.4     15.54              54.0                     3.28   \n",
              "3  34.6     17.34              46.0                     4.28   \n",
              "4  34.3      5.26              29.0                     3.77   \n",
              "\n",
              "   TWITTER_FAVORITE_COUNT_1K  \n",
              "0                       5.53  \n",
              "1                       1.43  \n",
              "2                       0.97  \n",
              "3                       2.13  \n",
              "4                       0.72  "
            ]
          },
          "metadata": {
            "tags": []
          },
          "execution_count": 11
        }
      ]
    },
    {
      "metadata": {
        "id": "PlVk0ly3m8SH",
        "colab_type": "text"
      },
      "cell_type": "markdown",
      "source": [
        "### Starting development with AWS Python Lambda development with Chalice\n",
        "\n",
        "* *[Watch Video Lesson 11.3:  Use AWS Lambda development with Chalice](https://www.safaribooksonline.com/videos/essential-machine-learning/9780135261118/9780135261118-EMLA_01_11_03)*\n",
        "\n"
      ]
    },
    {
      "metadata": {
        "id": "RS4-D7b72XwE",
        "colab_type": "text"
      },
      "cell_type": "markdown",
      "source": [
        "***Demo on Sagemaker Terminal***\n",
        "\n",
        "https://github.com/aws/chalice\n",
        "\n",
        "*Hello World Example:*\n",
        "\n",
        "```python\n",
        "$ pip install chalice\n",
        "$ chalice new-project helloworld && cd helloworld\n",
        "$ cat app.py\n",
        "\n",
        "from chalice import Chalice\n",
        "\n",
        "app = Chalice(app_name=\"helloworld\")\n",
        "\n",
        "@app.route(\"/\")\n",
        "def index():\n",
        "    return {\"hello\": \"world\"}\n",
        "\n",
        "$ chalice deploy\n",
        "...\n",
        "https://endpoint/dev\n",
        "\n",
        "$ curl https://endpoint/api\n",
        "{\"hello\": \"world\"}\n",
        "```\n",
        "\n",
        "References:\n",
        "\n",
        "[Serverless Web Scraping Project](https://github.com/noahgift/web_scraping_python)"
      ]
    },
    {
      "metadata": {
        "id": "V-laDqC0CRzD",
        "colab_type": "text"
      },
      "cell_type": "markdown",
      "source": [
        "### Using Cloud9 To Develop Lambda Functions"
      ]
    },
    {
      "metadata": {
        "id": "6yes4zJwCXws",
        "colab_type": "text"
      },
      "cell_type": "markdown",
      "source": [
        "An emerging development environment for Lambda\n",
        "\n",
        "\n",
        "![Cloud9](https://user-images.githubusercontent.com/58792/50839709-bac19300-1315-11e9-9383-8e2e76bc9759.png)"
      ]
    },
    {
      "metadata": {
        "id": "q7B3KpSfnCYo",
        "colab_type": "text"
      },
      "cell_type": "markdown",
      "source": [
        "### Using AWS DynamoDB\n",
        "\n",
        "* *[Watch Video Lesson 11.4:  Use AWS DynamoDB](https://www.safaribooksonline.com/videos/essential-machine-learning/9780135261118/9780135261118-EMLA_01_11_04)*"
      ]
    },
    {
      "metadata": {
        "id": "2cheDvcB2x02",
        "colab_type": "text"
      },
      "cell_type": "markdown",
      "source": [
        "https://aws.amazon.com/dynamodb/\n",
        "\n",
        "![alt text](https://d1.awsstatic.com/video-thumbs/dynamodb/AWS-online-games-wide.ada4247744e9be9a6d857b2e13b7eb78b18bf3a5.png)\n",
        "\n",
        "Query Example:\n",
        "\n",
        "```python\n",
        "def query_police_department_record_by_guid(guid):\n",
        "    \"\"\"Gets one record in the PD table by guid\n",
        "    \n",
        "    In [5]: rec = query_police_department_record_by_guid(\n",
        "        \"7e607b82-9e18-49dc-a9d7-e9628a9147ad\"\n",
        "        )\n",
        "    \n",
        "    In [7]: rec\n",
        "    Out[7]: \n",
        "    {'PoliceDepartmentName': 'Hollister',\n",
        "     'UpdateTime': 'Fri Mar  2 12:43:43 2018',\n",
        "     'guid': '7e607b82-9e18-49dc-a9d7-e9628a9147ad'}\n",
        "    \"\"\"\n",
        "    \n",
        "    db = dynamodb_resource()\n",
        "    extra_msg = {\"region_name\": REGION, \"aws_service\": \"dynamodb\", \n",
        "        \"police_department_table\":POLICE_DEPARTMENTS_TABLE,\n",
        "        \"guid\":guid}\n",
        "    log.info(f\"Get PD record by GUID\", extra=extra_msg)\n",
        "    pd_table = db.Table(POLICE_DEPARTMENTS_TABLE)\n",
        "    response = pd_table.get_item(\n",
        "        Key={\n",
        "            'guid': guid\n",
        "            }\n",
        "    )\n",
        "    return response['Item']\n",
        "```\n"
      ]
    },
    {
      "metadata": {
        "id": "Hc2I3g2xnH3Y",
        "colab_type": "text"
      },
      "cell_type": "markdown",
      "source": [
        "### Using Step functions with AWS\n",
        "\n",
        "* *[Watch Video Lesson 11.5:  Use AWS Step Functions](https://www.safaribooksonline.com/videos/essential-machine-learning/9780135261118/9780135261118-EMLA_01_11_05)*"
      ]
    },
    {
      "metadata": {
        "id": "316vRqUj3ELe",
        "colab_type": "text"
      },
      "cell_type": "markdown",
      "source": [
        "https://aws.amazon.com/step-functions/\n",
        "\n",
        "![Step Functions](https://d1.awsstatic.com/product-marketing/Step%20Functions/AmazonCloudWatchUpdated4.a57e968b08739e170aa504feed8db3761de21e60.png)\n",
        "\n",
        "Example Project:\n",
        "\n",
        "https://github.com/noahgift/web_scraping_python"
      ]
    },
    {
      "metadata": {
        "id": "bDlM65z5nM0i",
        "colab_type": "text"
      },
      "cell_type": "markdown",
      "source": [
        "### Using AWS Batch for ML Jobs\n",
        "\n",
        "* *[Watch Video Lesson 11.6:  Use AWS Batch for ML Jobs](https://www.safaribooksonline.com/videos/essential-machine-learning/9780135261118/9780135261118-EMLA_01_11_06)*\n"
      ]
    },
    {
      "metadata": {
        "id": "gn6fah4M4Sa1",
        "colab_type": "text"
      },
      "cell_type": "markdown",
      "source": [
        "https://aws.amazon.com/batch/\n",
        "\n",
        "![alt text](https://d1.awsstatic.com/Test%20Images/Kate%20Test%20Images/Dilithium-Diagrams_Visual-Effects-Rendering.ad9c0479c3772c67953e96ef8ae76a5095373d81.png)\n",
        "\n",
        "\n",
        "Example submissions tool\n",
        "\n",
        "```python\n",
        "@cli.group()\n",
        "def run():\n",
        "    \"\"\"Run AWS Batch\"\"\"\n",
        "\n",
        "@run.command(\"submit\")\n",
        "@click.option(\"--queue\", default=\"first-run-job-queue\", help=\"Batch Queue\")\n",
        "@click.option(\"--jobname\", default=\"1\", help=\"Name of Job\")\n",
        "@click.option(\"--jobdef\", default=\"test\", help=\"Job Definition\")\n",
        "@click.option(\"--cmd\", default=[\"uname\"], help=\"Container Override Commands\")\n",
        "def submit(queue, jobname, jobdef, cmd):\n",
        "    \"\"\"Submit a job\"\"\"\n",
        "\n",
        "    result = submit_job(\n",
        "        job_name=jobname,\n",
        "        job_queue=queue,\n",
        "        job_definition=jobdef,\n",
        "        command=cmd\n",
        "    )\n",
        "    click.echo(\"CLI:  Run Job Called\")\n",
        "    return result\n",
        "```"
      ]
    },
    {
      "metadata": {
        "id": "UbbRv8cOnSHm",
        "colab_type": "text"
      },
      "cell_type": "markdown",
      "source": [
        "### Using AWS Sagemaker \n",
        "\n",
        "* *[Watch Video Lesson 11.7:  Use AWS Sagemaker](https://www.safaribooksonline.com/videos/essential-machine-learning/9780135261118/9780135261118-EMLA_01_11_07)*\n",
        "\n",
        "\n"
      ]
    },
    {
      "metadata": {
        "id": "E8O9X_cP4m0m",
        "colab_type": "text"
      },
      "cell_type": "markdown",
      "source": [
        "![Sagemaker Lifecycle](https://d2908q01vomqb2.cloudfront.net/da4b9237bacccdf19c0760cab7aec4a8359010b0/2017/11/29/please_work.png)\n",
        "\n",
        "Fully-managed service that enables data scientists and developers to quickly and easily build, train and deploy machine learning models.\n",
        "\n",
        "https://aws.amazon.com/sagemaker/\n",
        "\n",
        "*   Hosted Jupyter Notebooks\n",
        "*   Model Training\n",
        "*   Model Hosting\n"
      ]
    },
    {
      "metadata": {
        "id": "z1fhFFvCnSZD",
        "colab_type": "code",
        "colab": {}
      },
      "cell_type": "code",
      "source": [
        ""
      ],
      "execution_count": 0,
      "outputs": []
    },
    {
      "metadata": {
        "id": "f7PiVW0InZ2T",
        "colab_type": "text"
      },
      "cell_type": "markdown",
      "source": [
        "### Using AWS Comprehend for NLP\n",
        "\n",
        "* [Watch Video Lesson 11.8:  Use AWS Comprehend for NLP](https://www.safaribooksonline.com/videos/essential-machine-learning/9780135261118/9780135261118-EMLA_01_11_08)"
      ]
    },
    {
      "metadata": {
        "id": "i8rccPwY5xLm",
        "colab_type": "text"
      },
      "cell_type": "markdown",
      "source": [
        "https://aws.amazon.com/comprehend/\n",
        "\n",
        "![alt text](https://d1.awsstatic.com/serverless/Serverless%20Migration/SemanticSearch@2x.487eb9f1abf658ccbf682d0f14aa9d8a0e5da635.png)\n",
        "\n",
        "Example Project:\n",
        "\n",
        "https://github.com/noahgift/recommendations/blob/master/notebooks/NLP_AWS.ipynb\n",
        "\n",
        "\n",
        "Example Code:\n",
        "\n",
        "```python\n",
        "import pandas as pd\n",
        "import boto3\n",
        "\n",
        "comprehend = boto3.client(service_name='comprehend')\n",
        "```"
      ]
    },
    {
      "metadata": {
        "id": "FyQuGIbQnj4E",
        "colab_type": "text"
      },
      "cell_type": "markdown",
      "source": [
        "### Using AWS Image Rekognition API\n",
        "\n"
      ]
    },
    {
      "metadata": {
        "id": "wPbmY4u86Gv4",
        "colab_type": "text"
      },
      "cell_type": "markdown",
      "source": [
        "* *[Watch Video Lesson 11.9:  Use AWS Rekognition API](https://www.safaribooksonline.com/videos/essential-machine-learning/9780135261118/9780135261118-EMLA_01_11_09)*"
      ]
    },
    {
      "metadata": {
        "id": "tpkfaZU86NVH",
        "colab_type": "text"
      },
      "cell_type": "markdown",
      "source": [
        "https://aws.amazon.com/rekognition/\n",
        "\n",
        "![alt text](https://d1.awsstatic.com/diagrams/product-page-diagrams/Rekognition_1.124a4700e5288f3947c7ea370c9844f09607849e.png)\n",
        "\n",
        "uploaded image:\n",
        "\n",
        "![alt text](https://user-images.githubusercontent.com/58792/40987724-27db5d0e-689e-11e8-917c-7160ad85c344.png)"
      ]
    },
    {
      "metadata": {
        "id": "iIZyMs6G9Sis",
        "colab_type": "text"
      },
      "cell_type": "markdown",
      "source": [
        "## Homework & Bonus Items\n",
        "\n",
        "Recommended followup items to study later"
      ]
    },
    {
      "metadata": {
        "id": "3_LEwD9ykIuL",
        "colab_type": "text"
      },
      "cell_type": "markdown",
      "source": [
        "### Software Carpentery (Bonus Material #1)\n",
        "\n",
        "A little bit of attention to detail with data science software carpentery, can save a lot of time in the future.\n",
        "\n",
        "* *[Watch Video Lesson 7:  Learning Software Carpentry](https://www.safaribooksonline.com/videos/essential-machine-learning/9780135261118/9780135261118-EMLA_01_07_00)*"
      ]
    },
    {
      "metadata": {
        "id": "omJYo7fx6nin",
        "colab_type": "text"
      },
      "cell_type": "markdown",
      "source": [
        "**Sub-lessons**\n",
        "\n",
        "* *[Watch Video Lesson 7.2: Using Git and Github to manage changes](https://www.safaribooksonline.com/videos/essential-machine-learning/9780135261118/9780135261118-EMLA_01_07_02)*\n",
        "*  *[Watch Video Lesson 7.3:  Using CircleCI to build and test project sourced from Github](https://www.safaribooksonline.com/videos/essential-machine-learning/9780135261118/9780135261118-EMLA_01_07_03)*\n",
        "*  *[Watch Video Lesson 7.4:  Using Static Analysis and Testing tools: Pylint and Pytest](https://www.safaribooksonline.com/videos/essential-machine-learning/9780135261118/9780135261118-EMLA_01_07_04)*\n",
        "*  *[Watch Video Lesson 7.5:  Test Jupyter Notebook](https://www.safaribooksonline.com/videos/essential-machine-learning/9780135261118/9780135261118-EMLA_01_07_05)*\n",
        "\n",
        "**Resources**\n",
        "\n",
        "* Go through this repo in detail:  https://github.com/noahgift/myrepo"
      ]
    },
    {
      "metadata": {
        "id": "z8HUZUfw_N38",
        "colab_type": "text"
      },
      "cell_type": "markdown",
      "source": [
        "### Creating a Data Engineering API with Flask and Pandas (Bonus Material #2)\n",
        "\n",
        "Learn how to create a real-world production API\n",
        "\n",
        "* *[Watch Video Lesson 8:  Creating a Data Engineering API with Flask and Pandas](https://www.safaribooksonline.com/videos/essential-machine-learning/9780135261118/9780135261118-EMLA_01_08_00)*"
      ]
    },
    {
      "metadata": {
        "id": "cydVVs6pAISb",
        "colab_type": "text"
      },
      "cell_type": "markdown",
      "source": [
        "**Resources**\n",
        "\n",
        "* [Data Engineering API Example Project](https://github.com/noahgift/pai-aws)\n",
        "\n",
        "\n",
        "\n",
        "![alt text](https://user-images.githubusercontent.com/58792/37561928-cf57944a-2a18-11e8-8f97-3d1e1cda4041.png)"
      ]
    },
    {
      "metadata": {
        "id": "dGiZckQrC94p",
        "colab_type": "text"
      },
      "cell_type": "markdown",
      "source": [
        "### Creating Command-line Machine Learning Tools (Bonus Material #3)\n",
        "\n",
        "Learn how to create command-line Machine Learning Tools\n",
        "\n",
        "* *[Watch Video Lesson 13: Creating Command-line Machine Learning Tools](https://www.safaribooksonline.com/videos/essential-machine-learning/9780135261118/9780135261118-EMLA_01_13_00)*"
      ]
    },
    {
      "metadata": {
        "id": "cSkcgDKNDe40",
        "colab_type": "text"
      },
      "cell_type": "markdown",
      "source": [
        "**Resources**\n",
        "\n",
        "* [Explore Developer and Team Statistic Tools Repo](https://github.com/noahgift/devml)\n",
        "\n",
        " - Look at pypi deployment code:  https://github.com/noahgift/devml/blob/master/Makefile#L11 \n",
        "\n",
        "\n",
        "* [Explore Machine Learning for Spot Prices Repo](https://github.com/noahgift/spot_price_machine_learning)"
      ]
    },
    {
      "metadata": {
        "id": "FV4emO3GC94r",
        "colab_type": "text"
      },
      "cell_type": "markdown",
      "source": [
        "**Resources**\n",
        "\n",
        "* [Data Engineering API Example Project](https://github.com/noahgift/pai-aws)\n",
        "\n",
        "\n",
        "\n",
        "![alt text](https://user-images.githubusercontent.com/58792/37561928-cf57944a-2a18-11e8-8f97-3d1e1cda4041.png)"
      ]
    },
    {
      "metadata": {
        "id": "cedyx3sJ-hg-",
        "colab_type": "text"
      },
      "cell_type": "markdown",
      "source": [
        "### Managed Machine Learning Systems and Internet of things (Bonus Material #4)\n",
        "\n"
      ]
    },
    {
      "metadata": {
        "id": "D8NOaKHl-vlE",
        "colab_type": "text"
      },
      "cell_type": "markdown",
      "source": [
        "Description: *Learn the building blocks of Managed ML and Hardware AI with Python*\n",
        "\n",
        "\n",
        "* [Explore Colab Notebooks on Managed ML and Hardware AI](https://github.com/noahgift/managed_ml_systems_and_iot#colab-noteboks)\n",
        "* [Attend an upcoming Live Training](https://www.safaribooksonline.com/search/?query=noah%20gift)\n",
        "* This live training goes deep on many of the Cloud-Native Machine Learning items:  i.e. Computer Vision on AWS\n",
        "\n",
        "![alt text](https://user-images.githubusercontent.com/58792/45260894-08e67a00-b3a8-11e8-941f-e539cb10f8e1.jpg)\n"
      ]
    },
    {
      "metadata": {
        "id": "K7MeMJ0fEJn7",
        "colab_type": "text"
      },
      "cell_type": "markdown",
      "source": [
        "### Wrapup"
      ]
    },
    {
      "metadata": {
        "id": "i1cmqpYlES4w",
        "colab_type": "text"
      },
      "cell_type": "markdown",
      "source": [
        "If you enjoyed this lesson,  please support me by:\n",
        "\n",
        "*   Watching a leaving a review for [Essential Machine Learning and AI with Python and Jupyter Notebook](https://www.safaribooksonline.com/library/view/essential-machine-learning/9780135261118/)\n",
        "*   Reading and leaving a review for [https://www.safaribooksonline.com/library/view/pragmatic-ai-an/9780134863924/](Pragmatic AI: An Introduction to Cloud-Based Machine Learning, First Edition)\n",
        "*   Viewing  and leaving a review for [Learning Path: Essential Machine Learning and Pragmatic AI](Learning Path: Essential Machine Learning and Pragmatic AI,)\n",
        "*   Buying a copy of [Pragmatic AI Book ](https://www.amazon.com/Pragmatic-AI-Introduction-Cloud-Based-Learning/dp/0134863860)and leaving a review on Amazon.\n",
        "\n",
        "* In return, I will continously make these lessons better and make many more new lessons (have a ton of new projects going live this year.)\n",
        "\n",
        "* Support is the lifeblood of authors to keep burning the midnight oil.\n",
        "\n",
        "\n",
        "\n",
        "\n",
        "\n",
        "\n"
      ]
    },
    {
      "metadata": {
        "id": "fQhEoJu1tNRe",
        "colab_type": "text"
      },
      "cell_type": "markdown",
      "source": [
        "## References"
      ]
    },
    {
      "metadata": {
        "id": "u6BaXDS7tQTD",
        "colab_type": "text"
      },
      "cell_type": "markdown",
      "source": [
        "*   [Pragmatic AI: An Introduction to Cloud-Based Machine Learning-Physical Book](http://www.informit.com/store/pragmatic-ai-an-introduction-to-cloud-based-machine-9780134863917)\n",
        "*   [Pragmatic AI: Pragmatic AI: An Introduction to Cloud-Based Machine Learning-SafariOnline Book](https://www.safaribooksonline.com/library/view/pragmatic-ai-an/9780134863924/)\n",
        "*  [Essential Machine Learning and AI with Python and Jupyter Notebook-Video-SafariOnline](https://www.safaribooksonline.com/videos/essential-machine-learning/9780135261118)\n",
        "* [Essential Machine Learning and AI with Python and Jupyter Notebook- Purchase Video](http://www.informit.com/store/essential-machine-learning-and-ai-with-python-and-jupyter-9780135261095)\n",
        "*   [noahgift.com](https://noahgift.com/)\n",
        "*   [paiml.com](https://paiml.com/)\n",
        "*   [Writing clean, testable, high quality code in Python](https://www.ibm.com/developerworks/aix/library/au-cleancode/index.html)"
      ]
    },
    {
      "metadata": {
        "id": "eI6ymSetqojC",
        "colab_type": "text"
      },
      "cell_type": "markdown",
      "source": [
        "## FAQ"
      ]
    },
    {
      "metadata": {
        "id": "ZjxMqoubqtRv",
        "colab_type": "text"
      },
      "cell_type": "markdown",
      "source": [
        "### Q:  TBD"
      ]
    },
    {
      "metadata": {
        "id": "9o9t7kgPqtuB",
        "colab_type": "text"
      },
      "cell_type": "markdown",
      "source": [
        "**Answer:  **  TBD"
      ]
    },
    {
      "metadata": {
        "id": "xP3EURO3rpH8",
        "colab_type": "code",
        "colab": {}
      },
      "cell_type": "code",
      "source": [
        ""
      ],
      "execution_count": 0,
      "outputs": []
    }
  ]
}