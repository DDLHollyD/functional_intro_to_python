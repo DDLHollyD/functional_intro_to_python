{
  "nbformat": 4,
  "nbformat_minor": 0,
  "metadata": {
    "colab": {
      "name": "immutability.ipynb",
      "version": "0.3.2",
      "provenance": [],
      "include_colab_link": true
    },
    "kernelspec": {
      "name": "python3",
      "display_name": "Python 3"
    }
  },
  "cells": [
    {
      "cell_type": "markdown",
      "metadata": {
        "id": "view-in-github",
        "colab_type": "text"
      },
      "source": [
        "<a href=\"https://colab.research.google.com/github/noahgift/functional_intro_to_python/blob/master/immutability.ipynb\" target=\"_parent\"><img src=\"https://colab.research.google.com/assets/colab-badge.svg\" alt=\"Open In Colab\"/></a>"
      ]
    },
    {
      "metadata": {
        "id": "RNl1TwZrftSP",
        "colab_type": "text"
      },
      "cell_type": "markdown",
      "source": [
        "![Unbreakable concepts in Python](https://user-images.githubusercontent.com/58792/47947414-44e61900-ded9-11e8-9891-d357b65cfcf5.jpg)"
      ]
    },
    {
      "metadata": {
        "id": "dhabI3o_dWd7",
        "colab_type": "text"
      },
      "cell_type": "markdown",
      "source": [
        "## Example of Immutability via Objects"
      ]
    },
    {
      "metadata": {
        "id": "8S3WDMvVdJaz",
        "colab_type": "code",
        "colab": {}
      },
      "cell_type": "code",
      "source": [
        "class Foo:\n",
        "  \n",
        "  @property\n",
        "  def unbreakable(self):\n",
        "    return \"David\"\n",
        "\n"
      ],
      "execution_count": 0,
      "outputs": []
    },
    {
      "metadata": {
        "id": "xpR4L8XVdd1Q",
        "colab_type": "code",
        "outputId": "a82e27f6-919b-4333-be2d-10e8ef907809",
        "colab": {
          "base_uri": "https://localhost:8080/",
          "height": 34
        }
      },
      "cell_type": "code",
      "source": [
        "foo = Foo()\n",
        "foo.unbreakable"
      ],
      "execution_count": 0,
      "outputs": [
        {
          "output_type": "execute_result",
          "data": {
            "text/plain": [
              "'True'"
            ]
          },
          "metadata": {
            "tags": []
          },
          "execution_count": 8
        }
      ]
    },
    {
      "metadata": {
        "id": "GZwabNvndsCs",
        "colab_type": "code",
        "colab": {}
      },
      "cell_type": "code",
      "source": [
        "foo.not_unbreakable = \"Elijah\""
      ],
      "execution_count": 0,
      "outputs": []
    },
    {
      "metadata": {
        "id": "VuSZ9Y49egiO",
        "colab_type": "text"
      },
      "cell_type": "markdown",
      "source": [
        "@property acts like an read only attribute, but it isn't"
      ]
    },
    {
      "metadata": {
        "id": "A4yseU7fecuW",
        "colab_type": "code",
        "outputId": "6c29cd7d-13a6-4a8a-87e1-d44646d24e01",
        "colab": {
          "base_uri": "https://localhost:8080/",
          "height": 34
        }
      },
      "cell_type": "code",
      "source": [
        "foo.__dict__"
      ],
      "execution_count": 0,
      "outputs": [
        {
          "output_type": "execute_result",
          "data": {
            "text/plain": [
              "{'not_unbreakable': 'Elijah'}"
            ]
          },
          "metadata": {
            "tags": []
          },
          "execution_count": 10
        }
      ]
    },
    {
      "metadata": {
        "id": "DmLJWuUtfE2-",
        "colab_type": "text"
      },
      "cell_type": "markdown",
      "source": [
        "You can change an attribute on the object, but not the read only property"
      ]
    },
    {
      "metadata": {
        "id": "lQzn9BCoeeLu",
        "colab_type": "code",
        "colab": {}
      },
      "cell_type": "code",
      "source": [
        "foo.not_unbreakable = \"Mr. Glass\""
      ],
      "execution_count": 0,
      "outputs": []
    },
    {
      "metadata": {
        "id": "0iS_9Q0AfWtY",
        "colab_type": "code",
        "outputId": "2176dbde-b1a4-49ee-b7ea-7c76c7cc1228",
        "colab": {
          "base_uri": "https://localhost:8080/",
          "height": 162
        }
      },
      "cell_type": "code",
      "source": [
        "foo.unbreakable = \"Bruce Willis\""
      ],
      "execution_count": 0,
      "outputs": [
        {
          "output_type": "error",
          "ename": "AttributeError",
          "evalue": "ignored",
          "traceback": [
            "\u001b[0;31m---------------------------------------------------------------------------\u001b[0m",
            "\u001b[0;31mAttributeError\u001b[0m                            Traceback (most recent call last)",
            "\u001b[0;32m<ipython-input-12-4bc1ea5ae699>\u001b[0m in \u001b[0;36m<module>\u001b[0;34m()\u001b[0m\n\u001b[0;32m----> 1\u001b[0;31m \u001b[0mfoo\u001b[0m\u001b[0;34m.\u001b[0m\u001b[0munbreakable\u001b[0m \u001b[0;34m=\u001b[0m \u001b[0;34m\"Bruce Willis\"\u001b[0m\u001b[0;34m\u001b[0m\u001b[0m\n\u001b[0m",
            "\u001b[0;31mAttributeError\u001b[0m: can't set attribute"
          ]
        }
      ]
    },
    {
      "metadata": {
        "id": "vdXsz7m4fauR",
        "colab_type": "code",
        "colab": {}
      },
      "cell_type": "code",
      "source": [
        ""
      ],
      "execution_count": 0,
      "outputs": []
    }
  ]
}