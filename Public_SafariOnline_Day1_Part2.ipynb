{
  "nbformat": 4,
  "nbformat_minor": 0,
  "metadata": {
    "colab": {
      "name": "Public-SafariOnline-Day1-Part2.ipynb",
      "version": "0.3.2",
      "provenance": [],
      "collapsed_sections": [
        "XusDa6zzGAEp",
        "_kubx9jlEvOK",
        "tabQrkIXEyVg",
        "mUiflyHRFdbR",
        "rMA9KJbaG1T2",
        "9DsnmUoyHGzx",
        "7bNTtyGvHh7E",
        "jzJzVnWDHo2A",
        "yplytoRKI8pA",
        "jJ2j1P-XJDVi",
        "Uqkx_uN3JQxV",
        "PEKWYhudJv_x",
        "srx3voPVKPop",
        "dhabI3o_dWd7",
        "6clKK6eovI89",
        "kkrALu_wvRMQ",
        "w-jc1fbg9p9q",
        "88ORBTOPvyKy",
        "e4RVlT2_-4Tj",
        "9wWsG9Cdwme0",
        "22pQ51hdwE4w",
        "bBqchsBXwaiD",
        "quAhiuBw-sq9",
        "8PvJTX-u-3Hz",
        "fQhEoJu1tNRe",
        "IdqC6jq5e4jd"
      ],
      "include_colab_link": true
    },
    "kernelspec": {
      "display_name": "Python 3",
      "language": "python",
      "name": "python3"
    }
  },
  "cells": [
    {
      "cell_type": "markdown",
      "metadata": {
        "id": "view-in-github",
        "colab_type": "text"
      },
      "source": [
        "<a href=\"https://colab.research.google.com/github/noahgift/functional_intro_to_python/blob/master/Public_SafariOnline_Day1_Part2.ipynb\" target=\"_parent\"><img src=\"https://colab.research.google.com/assets/colab-badge.svg\" alt=\"Open In Colab\"/></a>"
      ]
    },
    {
      "metadata": {
        "id": "4J2lIggJLUMS",
        "colab_type": "text"
      },
      "cell_type": "markdown",
      "source": [
        "# **Essential Machine Learning and Exploratory Data Analysis with Python and Jupyter Notebook**\n",
        "\n",
        "## Pragmatic AI Labs\n",
        "![alt text](https://paiml.com/images/logo_with_slogan_white_background.png)\n",
        "\n",
        "This notebook was produced by [Pragmatic AI Labs](https://paiml.com/).  You can continue learning about these topics by:\n",
        "\n",
        "*   Buying a copy of [Pragmatic AI: An Introduction to Cloud-Based Machine Learning](http://www.informit.com/store/pragmatic-ai-an-introduction-to-cloud-based-machine-9780134863917)\n",
        "*   Reading an online copy of [Pragmatic AI:Pragmatic AI: An Introduction to Cloud-Based Machine Learning](https://www.safaribooksonline.com/library/view/pragmatic-ai-an/9780134863924/)\n",
        "*  Watching video [Essential Machine Learning and AI with Python and Jupyter Notebook-Video-SafariOnline](https://www.safaribooksonline.com/videos/essential-machine-learning/9780135261118) on Safari Books Online.\n",
        "* Purchasing video [Essential Machine Learning and AI with Python and Jupyter Notebook- Purchase Video](http://www.informit.com/store/essential-machine-learning-and-ai-with-python-and-jupyter-9780135261095)\n",
        "*   Viewing more content at [noahgift.com](https://noahgift.com/)\n",
        "\n"
      ]
    },
    {
      "metadata": {
        "id": "o_M3Vd7KL1x5",
        "colab_type": "text"
      },
      "cell_type": "markdown",
      "source": [
        "## Part 1.3: Understanding Libraries, Classes, Control Structures,  and Regular Expressions (45 minutes)"
      ]
    },
    {
      "metadata": {
        "id": "5zTvkFF5C-FT",
        "colab_type": "text"
      },
      "cell_type": "markdown",
      "source": [
        "### Writing And Using Libraries In Python\n",
        "\n",
        "* *[Read related material covered in Chapter 7 of Pragmatic AI](https://www.safaribooksonline.com/library/view/pragmatic-ai-an/9780134863924/ch07.xhtml#ch07lev2)*\n",
        "\n",
        "* *[Watch Video Lesson 4:  Writing, Using and Deploying Libraries in Python](https://www.safaribooksonline.com/videos/essential-machine-learning/9780135261118/9780135261118-EMLA_01_04_00)*\n"
      ]
    },
    {
      "metadata": {
        "id": "XusDa6zzGAEp",
        "colab_type": "text"
      },
      "cell_type": "markdown",
      "source": [
        "#### Creating A Full Python Project\n",
        "\n",
        "* A more complete example can be found by walking through this Github project: https://github.com/noahgift/myrepo\n",
        "\n",
        "* An [article for CircleCI also talks more about this](https://circleci.com/blog/increase-reliability-in-data-science-and-machine-learning-projects-with-circleci/)\n",
        "\n",
        "* [Five Minute YouTube video](https://www.youtube.com/watch?v=xYX7n5bZw-w&t=62s) on building a repo from scratch\n",
        "\n"
      ]
    },
    {
      "metadata": {
        "id": "kROp-yB4GANl",
        "colab_type": "code",
        "colab": {}
      },
      "cell_type": "code",
      "source": [
        ""
      ],
      "execution_count": 0,
      "outputs": []
    },
    {
      "metadata": {
        "id": "_kubx9jlEvOK",
        "colab_type": "text"
      },
      "cell_type": "markdown",
      "source": [
        "#### Writing a library in Python\n",
        "It doesn't take long into a project before writing a library in python becomes important.  These are the basics\n",
        "In this repository there is a folder called ```funclib``` and inside is a ```__init__.py``` file.  To create a library, a module is needed in this directory with a function in it.\n",
        "\n",
        "Create a file:\n",
        "\n",
        "```\n",
        "touch funclib/funcmod.py\n",
        "\n",
        "```\n",
        "\n",
        "Inside this file, a function is created:\n",
        "\n",
        "\n",
        "```python\n",
        "\"\"\"This is a simple module\"\"\"\n",
        "\n",
        "def list_of_belts_in_bjj():\n",
        "    \"\"\"Returns a list of the belts in Brazilian Jiu Jitsu\"\"\"\n",
        "\n",
        "    belts = [\"white\", \"blue\", \"purple\", \"brown\", \"black\"]\n",
        "    return belts\n",
        "```\n"
      ]
    },
    {
      "metadata": {
        "id": "3hn85IdfFa9r",
        "colab_type": "code",
        "colab": {}
      },
      "cell_type": "code",
      "source": [
        ""
      ],
      "execution_count": 0,
      "outputs": []
    },
    {
      "metadata": {
        "id": "tabQrkIXEyVg",
        "colab_type": "text"
      },
      "cell_type": "markdown",
      "source": [
        "#### Using and Importing the library\n",
        "With Jupyter, if a library is directory above, sys.path.append can be added so it will be imported.\n",
        "Next, the module is imported using the namespace of the folder/filename/function name that was created earlier.\n",
        "\n",
        "```python\n",
        "import sys;sys.path.append(\"..\")\n",
        "from funclib import funcmod\n",
        "\n",
        "funcmod.list_of_belts_in_bjj()\n",
        "\n",
        "['white', 'blue', 'purple', 'brown', 'black']\n",
        "```\n"
      ]
    },
    {
      "metadata": {
        "id": "60_2HtlPFDB-",
        "colab_type": "code",
        "colab": {}
      },
      "cell_type": "code",
      "source": [
        ""
      ],
      "execution_count": 0,
      "outputs": []
    },
    {
      "metadata": {
        "id": "mUiflyHRFdbR",
        "colab_type": "text"
      },
      "cell_type": "markdown",
      "source": [
        "#### Installing other libraries using pip install\n",
        "\n",
        "Installing other libraries can be done with the ```pip install``` command\n",
        "\n",
        "To install the pandas package:\n",
        "\n",
        "```pip install pandas```\n",
        "\n",
        "Alternatively packages can be installed using a requirements.txt file\n",
        "\n",
        "```\n",
        "> cat requirements.txt \n",
        "pylint\n",
        "pytest\n",
        "pytest-cov\n",
        "click\n",
        "jupyter\n",
        "nbval\n",
        "\n",
        "> pip install -r requirements.txt\n",
        "\n",
        "```\n"
      ]
    },
    {
      "metadata": {
        "id": "jhEcA6_gFtrA",
        "colab_type": "code",
        "outputId": "714c9aaf-70e5-4bf9-83c1-56623d0eaa80",
        "colab": {
          "base_uri": "https://localhost:8080/",
          "height": 124
        }
      },
      "cell_type": "code",
      "source": [
        "!pip install pandas"
      ],
      "execution_count": 0,
      "outputs": [
        {
          "output_type": "stream",
          "text": [
            "Requirement already satisfied: pandas in /usr/local/lib/python3.6/dist-packages (0.22.0)\n",
            "Requirement already satisfied: python-dateutil>=2 in /usr/local/lib/python3.6/dist-packages (from pandas) (2.5.3)\n",
            "Requirement already satisfied: pytz>=2011k in /usr/local/lib/python3.6/dist-packages (from pandas) (2018.7)\n",
            "Requirement already satisfied: numpy>=1.9.0 in /usr/local/lib/python3.6/dist-packages (from pandas) (1.14.6)\n",
            "Requirement already satisfied: six>=1.5 in /usr/local/lib/python3.6/dist-packages (from python-dateutil>=2->pandas) (1.11.0)\n"
          ],
          "name": "stdout"
        }
      ]
    },
    {
      "metadata": {
        "id": "o3LoKqH5FvBP",
        "colab_type": "text"
      },
      "cell_type": "markdown",
      "source": [
        "##### To Use A 3rd Party Library in Python\n",
        "Import it in the library we created earlier\n",
        "\n",
        "```python\n",
        "\"\"\"This is a simple module\"\"\"\n",
        "\n",
        "import pandas as pd\n",
        "\n",
        "def list_of_belts_in_bjj():\n",
        "    \"\"\"Returns a list of the belts in Brazilian Jiu Jitsu\"\"\"\n",
        "\n",
        "    belts = [\"white\", \"blue\", \"purple\", \"brown\", \"black\"]\n",
        "    return belts\n",
        "\n",
        "def count_belts():\n",
        "    \"\"\"Uses Pandas to count number of belts\"\"\"\n",
        "\n",
        "    belts = list_of_belts_in_bjj()\n",
        "    df = pd.DataFrame(belts)\n",
        "    res = df.count()\n",
        "    count = res.values.tolist()[0]\n",
        "    return count \n",
        "```"
      ]
    },
    {
      "metadata": {
        "id": "jA6vWH6AFvmv",
        "colab_type": "code",
        "outputId": "813d93d3-d02d-4cc1-e0d1-edbd51d8c79e",
        "colab": {
          "base_uri": "https://localhost:8080/",
          "height": 34
        }
      },
      "cell_type": "code",
      "source": [
        "import pandas as pd\n",
        "\n",
        "def list_of_belts_in_bjj():\n",
        "    \"\"\"Returns a list of the belts in Brazilian Jiu Jitsu\"\"\"\n",
        "\n",
        "    belts = [\"white\", \"blue\", \"purple\", \"brown\", \"black\"]\n",
        "    return belts\n",
        "\n",
        "def count_belts():\n",
        "    \"\"\"Uses Pandas to count number of belts\"\"\"\n",
        "\n",
        "    belts = list_of_belts_in_bjj()\n",
        "    df = pd.DataFrame(belts)\n",
        "    res = df.count()\n",
        "    count = res.values.tolist()[0]\n",
        "    return count \n",
        "count_belts()"
      ],
      "execution_count": 0,
      "outputs": [
        {
          "output_type": "execute_result",
          "data": {
            "text/plain": [
              "5"
            ]
          },
          "metadata": {
            "tags": []
          },
          "execution_count": 2
        }
      ]
    },
    {
      "metadata": {
        "id": "wQIK5-fWGir3",
        "colab_type": "text"
      },
      "cell_type": "markdown",
      "source": [
        "### Understanding Python Classes \n",
        "\n",
        "* *[Watch Video Lesson 5:  Understanding Python Classes](https://www.safaribooksonline.com/videos/essential-machine-learning/9780135261118/9780135261118-EMLA_01_05_00)*"
      ]
    },
    {
      "metadata": {
        "id": "rMA9KJbaG1T2",
        "colab_type": "text"
      },
      "cell_type": "markdown",
      "source": [
        "#### Differences Between Classes and Functions\n",
        "The key differences between Classes and Functions are:\n",
        "\n",
        "* Functions are much easier to reason about\n",
        "* Functions (typically) have state inside the function only, where classes have state persists outside of the function\n",
        "* Classes can offer a more advanced level of abstraction at the cost of complexity"
      ]
    },
    {
      "metadata": {
        "id": "CRj3o_0RHAxp",
        "colab_type": "code",
        "colab": {}
      },
      "cell_type": "code",
      "source": [
        ""
      ],
      "execution_count": 0,
      "outputs": []
    },
    {
      "metadata": {
        "id": "9DsnmUoyHGzx",
        "colab_type": "text"
      },
      "cell_type": "markdown",
      "source": [
        "#### Creating an empty Class\n",
        "Using classes and interacting with them can be done iteratively in Jupyter Notebook.\n",
        "The simplest type of class is just a name as shown below:\n",
        "```\n",
        "class Competitor: pass\n",
        "```\n",
        "But, that class can be instantiated into multiple objects"
      ]
    },
    {
      "metadata": {
        "id": "sNXweYZZHOhS",
        "colab_type": "code",
        "colab": {}
      },
      "cell_type": "code",
      "source": [
        "class Competitor: pass"
      ],
      "execution_count": 0,
      "outputs": []
    },
    {
      "metadata": {
        "id": "7bNTtyGvHh7E",
        "colab_type": "text"
      },
      "cell_type": "markdown",
      "source": [
        "#### Setting Attributes on an Object"
      ]
    },
    {
      "metadata": {
        "id": "u6WPt43tHkji",
        "colab_type": "code",
        "outputId": "17556ce0-c869-4232-f9e7-be2461124c06",
        "colab": {
          "base_uri": "https://localhost:8080/",
          "height": 34
        }
      },
      "cell_type": "code",
      "source": [
        "conor = Competitor()\n",
        "conor.name = \"Conor McGregor\"\n",
        "conor.age = 29\n",
        "conor.weight = 155\n",
        "\n",
        "conor.__dict__\n"
      ],
      "execution_count": 0,
      "outputs": [
        {
          "output_type": "execute_result",
          "data": {
            "text/plain": [
              "{'age': 29, 'name': 'Conor McGregor', 'weight': 155}"
            ]
          },
          "metadata": {
            "tags": []
          },
          "execution_count": 5
        }
      ]
    },
    {
      "metadata": {
        "id": "AKMUUCnAHmM1",
        "colab_type": "code",
        "outputId": "8ec5fb86-15f0-45fa-d57c-aeaa3cf1ff46",
        "colab": {
          "base_uri": "https://localhost:8080/",
          "height": 34
        }
      },
      "cell_type": "code",
      "source": [
        "nate = Competitor()\n",
        "nate.name = \"Nate Diaz\"\n",
        "nate.age = 30\n",
        "nate.weight = 170\n",
        "nate.__dict__"
      ],
      "execution_count": 0,
      "outputs": [
        {
          "output_type": "execute_result",
          "data": {
            "text/plain": [
              "{'age': 30, 'name': 'Nate Diaz', 'weight': 170}"
            ]
          },
          "metadata": {
            "tags": []
          },
          "execution_count": 6
        }
      ]
    },
    {
      "metadata": {
        "id": "jzJzVnWDHo2A",
        "colab_type": "text"
      },
      "cell_type": "markdown",
      "source": [
        "#### Interacting with Objects"
      ]
    },
    {
      "metadata": {
        "id": "kB2B-OQ7IGZD",
        "colab_type": "code",
        "colab": {}
      },
      "cell_type": "code",
      "source": [
        "def print_competitor_age(object):\n",
        "    \"\"\"Print out age statistics about a competitor\"\"\"\n",
        "    \n",
        "    print(f\"{object.name} is {object.age} years old\")"
      ],
      "execution_count": 0,
      "outputs": []
    },
    {
      "metadata": {
        "id": "oQKDLcVGIGoh",
        "colab_type": "code",
        "outputId": "50c2d118-66b0-44cd-f8a2-bb42140a4daf",
        "colab": {
          "base_uri": "https://localhost:8080/",
          "height": 34
        }
      },
      "cell_type": "code",
      "source": [
        "print_competitor_age(nate)"
      ],
      "execution_count": 0,
      "outputs": [
        {
          "output_type": "stream",
          "text": [
            "Nate Diaz is 30 years old\n"
          ],
          "name": "stdout"
        }
      ]
    },
    {
      "metadata": {
        "id": "Ka-LFYJ1IG0e",
        "colab_type": "code",
        "outputId": "b768c16d-0a8a-45d7-c71a-35899178bc34",
        "colab": {
          "base_uri": "https://localhost:8080/",
          "height": 34
        }
      },
      "cell_type": "code",
      "source": [
        "print_competitor_age(conor)"
      ],
      "execution_count": 0,
      "outputs": [
        {
          "output_type": "stream",
          "text": [
            "Conor McGregor is 29 years old\n"
          ],
          "name": "stdout"
        }
      ]
    },
    {
      "metadata": {
        "id": "yplytoRKI8pA",
        "colab_type": "text"
      },
      "cell_type": "markdown",
      "source": [
        "#### Understanding Inheritance\n",
        "Classes can also inhert from other classes including methods.\n",
        "Often inheritance can be complex and a rule of thumb is to use discretion.\n",
        "\n",
        "In the example below, a UFC class was created that has a method (similar to a function), that can determine what weight class an athlete belongs to.  Then the Competitor class uses \"inheritance\", to inhert the code in the class."
      ]
    },
    {
      "metadata": {
        "id": "at28_-C7JC6m",
        "colab_type": "code",
        "colab": {}
      },
      "cell_type": "code",
      "source": [
        ""
      ],
      "execution_count": 0,
      "outputs": []
    },
    {
      "metadata": {
        "id": "jJ2j1P-XJDVi",
        "colab_type": "text"
      },
      "cell_type": "markdown",
      "source": [
        "##### Using Inheritance"
      ]
    },
    {
      "metadata": {
        "id": "hIzHGW2SJI0-",
        "colab_type": "code",
        "colab": {}
      },
      "cell_type": "code",
      "source": [
        "class UFC:\n",
        "    def weight_class(self, weight):\n",
        "        \"\"\"Weight Class Finder\"\"\"\n",
        "        \n",
        "        classes = {155: \"Lightweight\", \n",
        "                    170: \"Welterweight\"}\n",
        "        return classes[weight]\n",
        "\n",
        "        "
      ],
      "execution_count": 0,
      "outputs": []
    },
    {
      "metadata": {
        "id": "YTuU3nhaJLZR",
        "colab_type": "code",
        "colab": {}
      },
      "cell_type": "code",
      "source": [
        "class Competitor(UFC): pass"
      ],
      "execution_count": 0,
      "outputs": []
    },
    {
      "metadata": {
        "id": "MBqX0yAVJN_D",
        "colab_type": "code",
        "colab": {}
      },
      "cell_type": "code",
      "source": [
        "conor = Competitor()\n",
        "conor.name = \"Conor McGregor\"\n",
        "conor.age = 29\n",
        "conor.weight = 155\n"
      ],
      "execution_count": 0,
      "outputs": []
    },
    {
      "metadata": {
        "id": "ELf_GcPRJPWF",
        "colab_type": "code",
        "colab": {}
      },
      "cell_type": "code",
      "source": [
        "nate = Competitor()\n",
        "nate.name = \"Nate Diaz\"\n",
        "nate.age = 30\n",
        "nate.weight = 170\n"
      ],
      "execution_count": 0,
      "outputs": []
    },
    {
      "metadata": {
        "id": "Uqkx_uN3JQxV",
        "colab_type": "text"
      },
      "cell_type": "markdown",
      "source": [
        "##### Using inherited methods from Parent Class"
      ]
    },
    {
      "metadata": {
        "id": "h4G1XdjkJW1v",
        "colab_type": "code",
        "outputId": "4426104f-f4e5-49cf-8fcd-9ebd9ff8513f",
        "colab": {
          "base_uri": "https://localhost:8080/",
          "height": 34
        }
      },
      "cell_type": "code",
      "source": [
        "print(conor.weight_class(conor.weight))"
      ],
      "execution_count": 0,
      "outputs": [
        {
          "output_type": "stream",
          "text": [
            "Lightweight\n"
          ],
          "name": "stdout"
        }
      ]
    },
    {
      "metadata": {
        "id": "KFgfFCMhJYYf",
        "colab_type": "code",
        "outputId": "cc8ab672-9c5b-4922-b0b7-25286241b9d5",
        "colab": {
          "base_uri": "https://localhost:8080/",
          "height": 34
        }
      },
      "cell_type": "code",
      "source": [
        "print(nate.weight_class(nate.weight))"
      ],
      "execution_count": 0,
      "outputs": [
        {
          "output_type": "stream",
          "text": [
            "Welterweight\n"
          ],
          "name": "stdout"
        }
      ]
    },
    {
      "metadata": {
        "id": "PEKWYhudJv_x",
        "colab_type": "text"
      },
      "cell_type": "markdown",
      "source": [
        "#### Using Multiple Inheritance\n",
        "\n",
        "Multiple Inheritance is inheriting more than one class"
      ]
    },
    {
      "metadata": {
        "id": "U34Ti24hJ7Sk",
        "colab_type": "code",
        "colab": {}
      },
      "cell_type": "code",
      "source": [
        "class MMA:\n",
        "  def org(self, org_name):\n",
        "      orgs = {\"UFC\": \"Ultimate Fighting Championship\",\n",
        "          \"Bellator\":  \"MMA promotion in Santa Monica, California.\"}\n",
        "      return orgs[org_name]"
      ],
      "execution_count": 0,
      "outputs": []
    },
    {
      "metadata": {
        "id": "WELqXQNfJ86w",
        "colab_type": "code",
        "colab": {}
      },
      "cell_type": "code",
      "source": [
        "class CompetitorAll(UFC, MMA):pass "
      ],
      "execution_count": 0,
      "outputs": []
    },
    {
      "metadata": {
        "id": "CZHnhEmIJ_Qr",
        "colab_type": "code",
        "outputId": "b65b01c8-3ca6-4bbf-bd21-1f3d1db3fcfa",
        "colab": {
          "base_uri": "https://localhost:8080/",
          "height": 34
        }
      },
      "cell_type": "code",
      "source": [
        "gsp = CompetitorAll()\n",
        "gsp.name = \"GSP\"\n",
        "gsp.age = 27\n",
        "gsp.weight = 170\n",
        "print(f'{gsp.name} is the G.O.A.T in the {gsp.weight_class(gsp.weight)} division of the {gsp.org(\"UFC\")}')"
      ],
      "execution_count": 0,
      "outputs": [
        {
          "output_type": "stream",
          "text": [
            "GSP is the G.O.A.T in the Welterweight division of the Ultimate Fighting Championship\n"
          ],
          "name": "stdout"
        }
      ]
    },
    {
      "metadata": {
        "id": "srx3voPVKPop",
        "colab_type": "text"
      },
      "cell_type": "markdown",
      "source": [
        "#### Interacting with Special Class Methods and Other Class Techniques\n",
        "\n",
        "Class special methods have the signature ```__method__```:\n",
        "\n",
        "Examples include\n",
        "```\n",
        "__len__\n",
        "__call__\n",
        "__equal__\n",
        "\n",
        "```"
      ]
    },
    {
      "metadata": {
        "id": "IJ48YIJUKoYz",
        "colab_type": "code",
        "outputId": "4b6de677-4448-485b-adff-138b493c8927",
        "colab": {
          "base_uri": "https://localhost:8080/",
          "height": 34
        }
      },
      "cell_type": "code",
      "source": [
        "class JonJones:\n",
        "  \"\"\"Jon Jones class with customized length\"\"\"\n",
        "  \n",
        "  def __len__(self):\n",
        "    return 84\n",
        "\n",
        "jon_jones = JonJones()\n",
        "len(jon_jones)"
      ],
      "execution_count": 0,
      "outputs": [
        {
          "output_type": "execute_result",
          "data": {
            "text/plain": [
              "84"
            ]
          },
          "metadata": {
            "tags": []
          },
          "execution_count": 27
        }
      ]
    },
    {
      "metadata": {
        "id": "bqGdWZB3UEos",
        "colab_type": "code",
        "outputId": "f4272c4c-ff8a-43be-cb6b-6dc6ed7277b0",
        "colab": {
          "base_uri": "https://localhost:8080/",
          "height": 201
        }
      },
      "cell_type": "code",
      "source": [
        "class foo():pass\n",
        "f = foo()\n",
        "f.red = \"red\"\n",
        "len(f)"
      ],
      "execution_count": 0,
      "outputs": [
        {
          "output_type": "error",
          "ename": "TypeError",
          "evalue": "ignored",
          "traceback": [
            "\u001b[0;31m---------------------------------------------------------------------------\u001b[0m",
            "\u001b[0;31mTypeError\u001b[0m                                 Traceback (most recent call last)",
            "\u001b[0;32m<ipython-input-25-f0f0529fb27b>\u001b[0m in \u001b[0;36m<module>\u001b[0;34m()\u001b[0m\n\u001b[1;32m      2\u001b[0m \u001b[0mf\u001b[0m \u001b[0;34m=\u001b[0m \u001b[0mfoo\u001b[0m\u001b[0;34m(\u001b[0m\u001b[0;34m)\u001b[0m\u001b[0;34m\u001b[0m\u001b[0m\n\u001b[1;32m      3\u001b[0m \u001b[0mf\u001b[0m\u001b[0;34m.\u001b[0m\u001b[0mred\u001b[0m \u001b[0;34m=\u001b[0m \u001b[0;34m\"red\"\u001b[0m\u001b[0;34m\u001b[0m\u001b[0m\n\u001b[0;32m----> 4\u001b[0;31m \u001b[0mlen\u001b[0m\u001b[0;34m(\u001b[0m\u001b[0mf\u001b[0m\u001b[0;34m)\u001b[0m\u001b[0;34m\u001b[0m\u001b[0m\n\u001b[0m",
            "\u001b[0;31mTypeError\u001b[0m: object of type 'foo' has no len()"
          ]
        }
      ]
    },
    {
      "metadata": {
        "id": "tbTyE8mrKvcj",
        "colab_type": "text"
      },
      "cell_type": "markdown",
      "source": [
        "@property decorator is a shortcut for creating a read only property"
      ]
    },
    {
      "metadata": {
        "id": "QtQiqN9JKq_X",
        "colab_type": "code",
        "outputId": "39ca0bac-9628-4380-bae7-289e7ae9c05b",
        "colab": {
          "base_uri": "https://localhost:8080/",
          "height": 34
        }
      },
      "cell_type": "code",
      "source": [
        "class JonJones:\n",
        "  \"\"\"Jon Jones class with read only property\"\"\"\n",
        "  \n",
        "  @property\n",
        "  def reach(self):\n",
        "    return 84\n",
        "\n",
        "jon_jones = JonJones()\n",
        "jon_jones.reach\n",
        "#jon_jones.reach = 85 #cannot set\n",
        "#jon_jones.length = 85\n",
        "#jon_jones.length"
      ],
      "execution_count": 0,
      "outputs": [
        {
          "output_type": "execute_result",
          "data": {
            "text/plain": [
              "84"
            ]
          },
          "metadata": {
            "tags": []
          },
          "execution_count": 33
        }
      ]
    },
    {
      "metadata": {
        "id": "grcojpMOKyao",
        "colab_type": "text"
      },
      "cell_type": "markdown",
      "source": [
        "@staticmethod bolts a function onto a class"
      ]
    },
    {
      "metadata": {
        "id": "vctQpjK-K0AE",
        "colab_type": "code",
        "outputId": "17637d91-7ebf-40d4-994d-4d868d5884a9",
        "colab": {
          "base_uri": "https://localhost:8080/",
          "height": 34
        }
      },
      "cell_type": "code",
      "source": [
        "class JonJones:\n",
        "  \"\"\"Jon Jones Class with 'bolt-on' reach method\n",
        "  self isn't needed\n",
        "  \"\"\"\n",
        "  \n",
        "  @staticmethod\n",
        "  def reach():\n",
        "    return 84\n",
        "\n",
        "jon_jones =JonJones()\n",
        "jon_jones.reach()"
      ],
      "execution_count": 0,
      "outputs": [
        {
          "output_type": "execute_result",
          "data": {
            "text/plain": [
              "84"
            ]
          },
          "metadata": {
            "tags": []
          },
          "execution_count": 36
        }
      ]
    },
    {
      "metadata": {
        "id": "dhabI3o_dWd7",
        "colab_type": "text"
      },
      "cell_type": "markdown",
      "source": [
        "#### Immutability concepts with Objects"
      ]
    },
    {
      "metadata": {
        "id": "faD4aYV2wmKi",
        "colab_type": "text"
      },
      "cell_type": "markdown",
      "source": [
        "![Unbreakable concepts in Python](https://user-images.githubusercontent.com/58792/47947414-44e61900-ded9-11e8-9891-d357b65cfcf5.jpg)"
      ]
    },
    {
      "metadata": {
        "id": "8S3WDMvVdJaz",
        "colab_type": "code",
        "colab": {}
      },
      "cell_type": "code",
      "source": [
        "class Foo:\n",
        "  \n",
        "  @property\n",
        "  def unbreakable(self):\n",
        "    return \"David\"\n",
        "\n"
      ],
      "execution_count": 0,
      "outputs": []
    },
    {
      "metadata": {
        "id": "xpR4L8XVdd1Q",
        "colab_type": "code",
        "outputId": "d94db5e6-a8e8-4154-b24f-246e86d04897",
        "colab": {
          "base_uri": "https://localhost:8080/",
          "height": 34
        }
      },
      "cell_type": "code",
      "source": [
        "foo = Foo()\n",
        "foo.unbreakable"
      ],
      "execution_count": 0,
      "outputs": [
        {
          "output_type": "execute_result",
          "data": {
            "text/plain": [
              "'David'"
            ]
          },
          "metadata": {
            "tags": []
          },
          "execution_count": 38
        }
      ]
    },
    {
      "metadata": {
        "id": "GZwabNvndsCs",
        "colab_type": "code",
        "colab": {}
      },
      "cell_type": "code",
      "source": [
        "foo.not_unbreakable = \"Elijah\""
      ],
      "execution_count": 0,
      "outputs": []
    },
    {
      "metadata": {
        "id": "VuSZ9Y49egiO",
        "colab_type": "text"
      },
      "cell_type": "markdown",
      "source": [
        "@property acts like an read only attribute, but it isn't"
      ]
    },
    {
      "metadata": {
        "id": "A4yseU7fecuW",
        "colab_type": "code",
        "outputId": "3146c1a1-fe6b-4e36-e036-426d1b41f0ed",
        "colab": {
          "base_uri": "https://localhost:8080/",
          "height": 34
        }
      },
      "cell_type": "code",
      "source": [
        "foo.__dict__"
      ],
      "execution_count": 0,
      "outputs": [
        {
          "output_type": "execute_result",
          "data": {
            "text/plain": [
              "{'not_unbreakable': 'Elijah'}"
            ]
          },
          "metadata": {
            "tags": []
          },
          "execution_count": 40
        }
      ]
    },
    {
      "metadata": {
        "id": "DmLJWuUtfE2-",
        "colab_type": "text"
      },
      "cell_type": "markdown",
      "source": [
        "You can change an attribute on the object, but not the read only property"
      ]
    },
    {
      "metadata": {
        "id": "lQzn9BCoeeLu",
        "colab_type": "code",
        "colab": {}
      },
      "cell_type": "code",
      "source": [
        "foo.not_unbreakable = \"Mr. Glass\""
      ],
      "execution_count": 0,
      "outputs": []
    },
    {
      "metadata": {
        "id": "0iS_9Q0AfWtY",
        "colab_type": "code",
        "outputId": "36d06328-1a34-4cf5-ff5f-a45df461c115",
        "colab": {
          "base_uri": "https://localhost:8080/",
          "height": 166
        }
      },
      "cell_type": "code",
      "source": [
        "foo.unbreakable = \"Bruce Willis\""
      ],
      "execution_count": 0,
      "outputs": [
        {
          "output_type": "error",
          "ename": "AttributeError",
          "evalue": "ignored",
          "traceback": [
            "\u001b[0;31m---------------------------------------------------------------------------\u001b[0m",
            "\u001b[0;31mAttributeError\u001b[0m                            Traceback (most recent call last)",
            "\u001b[0;32m<ipython-input-42-4bc1ea5ae699>\u001b[0m in \u001b[0;36m<module>\u001b[0;34m()\u001b[0m\n\u001b[0;32m----> 1\u001b[0;31m \u001b[0mfoo\u001b[0m\u001b[0;34m.\u001b[0m\u001b[0munbreakable\u001b[0m \u001b[0;34m=\u001b[0m \u001b[0;34m\"Bruce Willis\"\u001b[0m\u001b[0;34m\u001b[0m\u001b[0m\n\u001b[0m",
            "\u001b[0;31mAttributeError\u001b[0m: can't set attribute"
          ]
        }
      ]
    },
    {
      "metadata": {
        "id": "vdXsz7m4fauR",
        "colab_type": "code",
        "colab": {}
      },
      "cell_type": "code",
      "source": [
        ""
      ],
      "execution_count": 0,
      "outputs": []
    },
    {
      "metadata": {
        "id": "6clKK6eovI89",
        "colab_type": "text"
      },
      "cell_type": "markdown",
      "source": [
        "### Control Structures\n",
        "\n",
        "* *[Watch Video Lesson 3:  Using Python Control Structurers](https://www.safaribooksonline.com/videos/essential-machine-learning/9780135261118/9780135261118-EMLA_01_03_00)*\n",
        "\n",
        "\n",
        "**Material in Section**\n",
        "\n",
        "*  For loops\n",
        "*  While loops\n",
        "*  Using if/else/break/continue/pass statements \n",
        "*  Try/Except\n",
        "*  Generator expressions\n",
        "*  List Comprehensions\n",
        "*  Sorting\n",
        "*  Pattern Matching\n",
        "\n",
        "All programs eventually need a way to control the flow of execution.  This section describes techniques."
      ]
    },
    {
      "metadata": {
        "id": "kkrALu_wvRMQ",
        "colab_type": "text"
      },
      "cell_type": "markdown",
      "source": [
        "#### Using Loops\n",
        "\n",
        "The for loop is one of the most fundamental control structures in Python.\n",
        "One common pattern is to use the range function to generate a range of values, then to iterate on them.\n",
        "\n",
        "* *[Watch Video Lesson 3.1:  Create Loops](https://www.safaribooksonline.com/videos/essential-machine-learning/9780135261118/9780135261118-EMLA_01_03_01)*"
      ]
    },
    {
      "metadata": {
        "id": "w-jc1fbg9p9q",
        "colab_type": "text"
      },
      "cell_type": "markdown",
      "source": [
        "##### Using a Simple For Loop\n",
        "\n",
        "built in range() function creates an iterable"
      ]
    },
    {
      "metadata": {
        "id": "abHaxRTlth7c",
        "colab_type": "code",
        "outputId": "270bcba5-0005-4885-f7b6-a4500bdf674f",
        "colab": {
          "base_uri": "https://localhost:8080/",
          "height": 34
        }
      },
      "cell_type": "code",
      "source": [
        "res = range(3)\n",
        "print(list(res))"
      ],
      "execution_count": 0,
      "outputs": [
        {
          "output_type": "stream",
          "text": [
            "[0, 1, 2]\n"
          ],
          "name": "stdout"
        }
      ]
    },
    {
      "metadata": {
        "id": "tnUuKBtlvWz5",
        "colab_type": "code",
        "outputId": "bbe76123-1462-4d1a-e3a0-6d5a313b3605",
        "colab": {
          "base_uri": "https://localhost:8080/",
          "height": 122
        }
      },
      "cell_type": "code",
      "source": [
        "for i in range(6):\n",
        "    print(i)"
      ],
      "execution_count": 0,
      "outputs": [
        {
          "output_type": "stream",
          "text": [
            "0\n",
            "1\n",
            "2\n",
            "3\n",
            "4\n",
            "5\n"
          ],
          "name": "stdout"
        }
      ]
    },
    {
      "metadata": {
        "id": "ANmx4hYRvdXF",
        "colab_type": "text"
      },
      "cell_type": "markdown",
      "source": [
        "##### For loop over an iterable (list)\n",
        "\n",
        "Another common pattern is to iterate on a list (or any iterable)"
      ]
    },
    {
      "metadata": {
        "id": "K_XrmKB6vYHw",
        "colab_type": "code",
        "outputId": "09163015-b850-4ffe-edb6-b7f0a01b3137",
        "colab": {
          "base_uri": "https://localhost:8080/",
          "height": 69
        }
      },
      "cell_type": "code",
      "source": [
        "martial_arts = [\"Sambo\", \"Muay Thai\", \"BJJ\"]\n",
        "for martial_art in martial_arts:\n",
        "    print(f\"{martial_art} has influenced modern mixed martial arts\")"
      ],
      "execution_count": 0,
      "outputs": [
        {
          "output_type": "stream",
          "text": [
            "Sambo has influenced modern mixed martial arts\n",
            "Muay Thai has influenced modern mixed martial arts\n",
            "BJJ has influenced modern mixed martial arts\n"
          ],
          "name": "stdout"
        }
      ]
    },
    {
      "metadata": {
        "id": "McQsitwbvrIG",
        "colab_type": "text"
      },
      "cell_type": "markdown",
      "source": [
        "##### While Loops\n",
        "\n",
        "A While Loop is often used as a way of looping until a condition is met. A very common use of a while loop is to create an infinite loop. In the example below a while loop is used to filter a function that returns 1 of 2 types of attacks."
      ]
    },
    {
      "metadata": {
        "id": "XA-2E-uNvhUK",
        "colab_type": "code",
        "outputId": "f958ef82-b55f-437f-a73c-3c220212accb",
        "colab": {
          "base_uri": "https://localhost:8080/",
          "height": 87
        }
      },
      "cell_type": "code",
      "source": [
        "def attacks():\n",
        "    list_of_attacks = [\"lower_body\", \"lower_body\",\"upper_body\"]\n",
        "    print(f\"There are a total of {len(list_of_attacks)} attacks coming!\")\n",
        "    for attack in list_of_attacks:\n",
        "        yield attack\n",
        "attack = attacks()\n",
        "count = 0\n",
        "while next(attack) == \"lower_body\":\n",
        "    count +=1\n",
        "    print(f\"crossing legs to prevent attack #{count}\")\n",
        "else:\n",
        "    count +=1\n",
        "    print(f\"This is not a lower body attack, I will cross my arms for #{count}\")"
      ],
      "execution_count": 0,
      "outputs": [
        {
          "output_type": "stream",
          "text": [
            "There are a total of 3 attacks coming!\n",
            "crossing legs to prevent attack #1\n",
            "crossing legs to prevent attack #2\n",
            "This is not a lower body attack, I will cross my arms for #3\n"
          ],
          "name": "stdout"
        }
      ]
    },
    {
      "metadata": {
        "id": "88ORBTOPvyKy",
        "colab_type": "text"
      },
      "cell_type": "markdown",
      "source": [
        "#### Using if/else/break/continue/pass statements \n",
        "\n",
        "* *[Watch Video Lesson 3.2:  if/else](https://www.safaribooksonline.com/videos/essential-machine-learning/9780135261118/9780135261118-EMLA_01_03_02)*\n"
      ]
    },
    {
      "metadata": {
        "id": "e4RVlT2_-4Tj",
        "colab_type": "text"
      },
      "cell_type": "markdown",
      "source": [
        "##### Using if/elif/else blocks\n",
        "If/Else statements are a common way to branch between decisions. In the example below if/elif are used to match a branch. If there are no matches, the last \"else\" statement is run."
      ]
    },
    {
      "metadata": {
        "id": "4rPN8VYgvvsL",
        "colab_type": "code",
        "colab": {}
      },
      "cell_type": "code",
      "source": [
        "def recommended_attack(position):\n",
        "    \"\"\"Recommends an attack based on the position\"\"\"\n",
        "    if position == \"full_guard\":\n",
        "        print(f\"Try an armbar attack\")\n",
        "    elif position == \"half_guard\":\n",
        "        print(f\"Try a kimura attack\")\n",
        "    elif position == \"full_mount\":\n",
        "        print(f\"Try an arm triangle\")\n",
        "    else:\n",
        "        print(f\"You're on your own, there is no suggestion for an attack\")"
      ],
      "execution_count": 0,
      "outputs": []
    },
    {
      "metadata": {
        "id": "liJPIg7dv4kq",
        "colab_type": "code",
        "outputId": "c0e6db39-20bd-402b-bf13-18b5d58c9dbc",
        "colab": {
          "base_uri": "https://localhost:8080/",
          "height": 34
        }
      },
      "cell_type": "code",
      "source": [
        "recommended_attack(\"full_guard\")"
      ],
      "execution_count": 0,
      "outputs": [
        {
          "output_type": "stream",
          "text": [
            "Try an armbar attack\n"
          ],
          "name": "stdout"
        }
      ]
    },
    {
      "metadata": {
        "id": "7d6qc-4yv_7F",
        "colab_type": "code",
        "outputId": "978cef3f-92c8-485c-e05c-757a2bad67e0",
        "colab": {
          "base_uri": "https://localhost:8080/",
          "height": 34
        }
      },
      "cell_type": "code",
      "source": [
        "recommended_attack(\"z_guard\")"
      ],
      "execution_count": 0,
      "outputs": [
        {
          "output_type": "stream",
          "text": [
            "You're on your own, there is no suggestion for an attack\n"
          ],
          "name": "stdout"
        }
      ]
    },
    {
      "metadata": {
        "id": "jYEv2fd4_BRO",
        "colab_type": "text"
      },
      "cell_type": "markdown",
      "source": [
        "##### Using break"
      ]
    },
    {
      "metadata": {
        "id": "n6uxAIVc_B1F",
        "colab_type": "code",
        "outputId": "5704c95e-6c03-4e41-b720-09affacfdd41",
        "colab": {
          "base_uri": "https://localhost:8080/",
          "height": 104
        }
      },
      "cell_type": "code",
      "source": [
        "submission_attacks = 0\n",
        "while True:\n",
        "  submission_attacks +=1\n",
        "  print(f\"Attempting Submission Attack Number {submission_attacks}\")\n",
        "  if submission_attacks > 3:\n",
        "    print(\"Attacker is tired...stopping attacks after 4th attack\")\n",
        "    break\n",
        "  "
      ],
      "execution_count": 0,
      "outputs": [
        {
          "output_type": "stream",
          "text": [
            "Attempting Submission Attack Number 1\n",
            "Attempting Submission Attack Number 2\n",
            "Attempting Submission Attack Number 3\n",
            "Attempting Submission Attack Number 4\n",
            "Attacker is tired...stopping attacks after 4th attack\n"
          ],
          "name": "stdout"
        }
      ]
    },
    {
      "metadata": {
        "id": "KB7SreVYAHsH",
        "colab_type": "text"
      },
      "cell_type": "markdown",
      "source": [
        "##### Using continue"
      ]
    },
    {
      "metadata": {
        "id": "a56Y60MpAH1t",
        "colab_type": "code",
        "outputId": "38da4e04-cb98-4d7a-a730-2b9d9b9e09fe",
        "colab": {
          "base_uri": "https://localhost:8080/",
          "height": 34
        }
      },
      "cell_type": "code",
      "source": [
        "martial_arts = [\"Sambo\", \"Muay Thai\", \"BJJ\"]\n",
        "for martial_art in martial_arts:\n",
        "  if not martial_art == \"BJJ\":\n",
        "    continue\n",
        "  print(f\"My favorite Martial Art is {martial_art}\")"
      ],
      "execution_count": 0,
      "outputs": [
        {
          "output_type": "stream",
          "text": [
            "My favorite Martial Art is BJJ\n"
          ],
          "name": "stdout"
        }
      ]
    },
    {
      "metadata": {
        "id": "PgcB-3dUB2I4",
        "colab_type": "text"
      },
      "cell_type": "markdown",
      "source": [
        "##### Using pass\n",
        "\n",
        "The pass keyword is often a placeholder to define a class or function"
      ]
    },
    {
      "metadata": {
        "id": "SsucVX0JB2Pe",
        "colab_type": "code",
        "colab": {}
      },
      "cell_type": "code",
      "source": [
        "def my_func(): pass\n",
        "class SomeClass: pass\n",
        "\n",
        "my_func()\n",
        "some_class = SomeClass()\n",
        "\n",
        "#Dark Patterns:  NO!\n",
        "#try:\n",
        "#  print(\"this\")\n",
        "#except:\n",
        "  #import sys;sys.exit(0)\n",
        "  #pass"
      ],
      "execution_count": 0,
      "outputs": []
    },
    {
      "metadata": {
        "id": "9wWsG9Cdwme0",
        "colab_type": "text"
      },
      "cell_type": "markdown",
      "source": [
        "#### Try/Except\n",
        "\n",
        "There is an expression in sports, \"Always be prepared to do your best on your worst day\". Try/Except statements are similar. It is always a good idea to think about what happens when something goes wrong in code that is written. Try/Except blocks allow for this.\n",
        "\n",
        "* *[Watch Video Lesson 3.3:  Understand try/except](https://www.safaribooksonline.com/videos/essential-machine-learning/9780135261118/9780135261118-EMLA_01_03_03)*"
      ]
    },
    {
      "metadata": {
        "id": "1vlb0DVAHVHC",
        "colab_type": "text"
      },
      "cell_type": "markdown",
      "source": [
        "##### Using try/except\n",
        "\n",
        "Catching a specific exception"
      ]
    },
    {
      "metadata": {
        "id": "G94tPojywjkt",
        "colab_type": "code",
        "outputId": "4df93595-6a86-4855-8f3d-da210d2f9aba",
        "colab": {
          "base_uri": "https://localhost:8080/",
          "height": 87
        }
      },
      "cell_type": "code",
      "source": [
        "tournaments = [\"NAGA\", \"IBJJF\", \"EBI\"]\n",
        "while True:\n",
        "    try:\n",
        "        tournament = tournaments.pop()\n",
        "        print(f\"I would like to compete in the {tournament} tournament.\")\n",
        "    except IndexError:\n",
        "        print(\"There are no more tournaments\")\n",
        "        break"
      ],
      "execution_count": 0,
      "outputs": [
        {
          "output_type": "stream",
          "text": [
            "I would like to compete in the EBI tournament.\n",
            "I would like to compete in the IBJJF tournament.\n",
            "I would like to compete in the NAGA tournament.\n",
            "There are no more tournaments\n"
          ],
          "name": "stdout"
        }
      ]
    },
    {
      "metadata": {
        "id": "YXDgzYG_H1Ke",
        "colab_type": "text"
      },
      "cell_type": "markdown",
      "source": [
        "##### Logging exceptions\n",
        "\n",
        "It is a best practice to log exception blocks"
      ]
    },
    {
      "metadata": {
        "id": "-KueP5USH1Ty",
        "colab_type": "code",
        "outputId": "57140eef-dfb9-4cee-cc91-87ec4d532c93",
        "colab": {
          "base_uri": "https://localhost:8080/",
          "height": 157
        }
      },
      "cell_type": "code",
      "source": [
        "import logging\n",
        "\n",
        "tournaments = [\"NAGA\", \"IBJJF\", \"EBI\"]\n",
        "while True:\n",
        "    try:\n",
        "        tournament = tournaments.pop()\n",
        "        print(f\"I would like to compete in the {tournament} tournament.\")\n",
        "    except IndexError:\n",
        "        logging.exception(f\"Exception Logged:  There are no more tournaments\")\n",
        "        break"
      ],
      "execution_count": 0,
      "outputs": [
        {
          "output_type": "stream",
          "text": [
            "ERROR:root:Exception Logged:  There are no more tournaments\n",
            "Traceback (most recent call last):\n",
            "  File \"<ipython-input-61-c377a67d17fe>\", line 6, in <module>\n",
            "    tournament = tournaments.pop()\n",
            "IndexError: pop from empty list\n"
          ],
          "name": "stderr"
        },
        {
          "output_type": "stream",
          "text": [
            "I would like to compete in the EBI tournament.\n",
            "I would like to compete in the IBJJF tournament.\n",
            "I would like to compete in the NAGA tournament.\n"
          ],
          "name": "stdout"
        }
      ]
    },
    {
      "metadata": {
        "id": "22pQ51hdwE4w",
        "colab_type": "text"
      },
      "cell_type": "markdown",
      "source": [
        "####Generator Expression\n",
        "\n",
        "Generator Expressions build further on the concept of yield by allowing for the lazy evaluation of a sequence. The benefit of generator expressions is that nothing is evaluated or brought into memory until it is actually evaluated.\n",
        "\n",
        "This is why the example below can be operating on an infi-nite sequence of random attacks that are generated. In the generator pipeline the lower-case attack, such as \"arm_triangle\" is converted to \"ARM_TRIANGLE\", next the underscore is remove \"ARM TRIANGLE\".\n",
        "\n",
        "* *[Watch Video Lesson 3.4:  Understand generator expressions](https://www.safaribooksonline.com/videos/essential-machine-learning/9780135261118/9780135261118-EMLA_01_03_04)*"
      ]
    },
    {
      "metadata": {
        "id": "iLd5wY06MHJP",
        "colab_type": "text"
      },
      "cell_type": "markdown",
      "source": [
        "##### Creating Generator Expressions"
      ]
    },
    {
      "metadata": {
        "id": "5AIcGpUgwBR0",
        "colab_type": "code",
        "colab": {}
      },
      "cell_type": "code",
      "source": [
        "def lazy_return_random_attacks():\n",
        "    \"\"\"Yield attacks each time\"\"\"\n",
        "    import random\n",
        "    attacks = {\"kimura\": \"upper_body\",\n",
        "           \"straight_ankle_lock\":\"lower_body\", \n",
        "           \"arm_triangle\":\"upper_body\",\n",
        "            \"keylock\": \"upper_body\",\n",
        "            \"knee_bar\": \"lower_body\"}\n",
        "    while True:\n",
        "        random_attack = random.choices(list(attacks.keys()))\n",
        "        yield random_attack\n",
        "        \n",
        "#Make all attacks appear as Upper Case\n",
        "upper_case_attacks = (attack.pop().upper() for attack in lazy_return_random_attacks())"
      ],
      "execution_count": 0,
      "outputs": []
    },
    {
      "metadata": {
        "id": "eaWWG7N8wNHd",
        "colab_type": "code",
        "outputId": "8808cfa9-4dd8-468e-eafa-bbc93a8bad8d",
        "colab": {
          "base_uri": "https://localhost:8080/",
          "height": 34
        }
      },
      "cell_type": "code",
      "source": [
        "next(upper_case_attacks)"
      ],
      "execution_count": 0,
      "outputs": [
        {
          "output_type": "execute_result",
          "data": {
            "text/plain": [
              "'ARM_TRIANGLE'"
            ]
          },
          "metadata": {
            "tags": []
          },
          "execution_count": 68
        }
      ]
    },
    {
      "metadata": {
        "id": "nMYRCiTbMUCn",
        "colab_type": "text"
      },
      "cell_type": "markdown",
      "source": [
        "##### Using Generator expressions\n",
        "\n",
        "Generator expressions can be used in a pipeline fashion"
      ]
    },
    {
      "metadata": {
        "id": "NPKsH9dPwO89",
        "colab_type": "code",
        "colab": {}
      },
      "cell_type": "code",
      "source": [
        "## Generator Pipeline:  One expression chains into the next\n",
        "#Make all attacks appear as Upper Case\n",
        "upper_case_attacks = (attack.pop().upper() for attack in lazy_return_random_attacks())\n",
        "#Remove the underscore\n",
        "remove_underscore = (attack.split(\"_\") for attack in upper_case_attacks)\n",
        "#Create a new phrase \n",
        "new_attack_phrase = (\" \".join(phrase) for phrase in remove_underscore)\n",
        "#this is where you can call an AI API\n",
        "#my_api_call = comprehend(new_attack_phrase)"
      ],
      "execution_count": 0,
      "outputs": []
    },
    {
      "metadata": {
        "id": "xb4vf2URwRnk",
        "colab_type": "code",
        "outputId": "be3117de-b8ec-498f-f9eb-bfe3050a6b42",
        "colab": {
          "base_uri": "https://localhost:8080/",
          "height": 34
        }
      },
      "cell_type": "code",
      "source": [
        "next(new_attack_phrase)"
      ],
      "execution_count": 0,
      "outputs": [
        {
          "output_type": "execute_result",
          "data": {
            "text/plain": [
              "'KNEE BAR'"
            ]
          },
          "metadata": {
            "tags": []
          },
          "execution_count": 71
        }
      ]
    },
    {
      "metadata": {
        "id": "OA9PLTTFwV00",
        "colab_type": "code",
        "outputId": "db573596-5f46-49d3-e1b3-af3b123cd6bd",
        "colab": {
          "base_uri": "https://localhost:8080/",
          "height": 192
        }
      },
      "cell_type": "code",
      "source": [
        "for number in range(10):\n",
        "    print(next(new_attack_phrase))"
      ],
      "execution_count": 0,
      "outputs": [
        {
          "output_type": "stream",
          "text": [
            "STRAIGHT ANKLE LOCK\n",
            "ARM TRIANGLE\n",
            "ARM TRIANGLE\n",
            "KEYLOCK\n",
            "ARM TRIANGLE\n",
            "KEYLOCK\n",
            "KIMURA\n",
            "STRAIGHT ANKLE LOCK\n",
            "KNEE BAR\n",
            "KNEE BAR\n"
          ],
          "name": "stdout"
        }
      ]
    },
    {
      "metadata": {
        "id": "bBqchsBXwaiD",
        "colab_type": "text"
      },
      "cell_type": "markdown",
      "source": [
        "#### List Comprehension\n",
        "\n",
        "A list comprehension is very similar to a generator expression, but it evaluated in memory. Additionally, it is optimized C code that be a substantial improvement over a traditional for loop.\n",
        "\n",
        "* *[Watch Video Lesson 3.5:  Understand list comprehensions](https://www.safaribooksonline.com/videos/essential-machine-learning/9780135261118/9780135261118-EMLA_01_03_05)*"
      ]
    },
    {
      "metadata": {
        "id": "e4v2SE7bOa_1",
        "colab_type": "text"
      },
      "cell_type": "markdown",
      "source": [
        "##### Creating List Comprehensions"
      ]
    },
    {
      "metadata": {
        "id": "X_pm3eyqwXXM",
        "colab_type": "code",
        "colab": {}
      },
      "cell_type": "code",
      "source": [
        "martial_arts = [\"Sambo\", \"Muay Thai\", \"BJJ\"]\n",
        "new_phrases = [\"\".join(f\"Mixed Martial Arts is influenced by {martial_art}\") for martial_art in martial_arts]"
      ],
      "execution_count": 0,
      "outputs": []
    },
    {
      "metadata": {
        "id": "aPLuwa3TOzKp",
        "colab_type": "text"
      },
      "cell_type": "markdown",
      "source": [
        "#####  Using List Comprehensions\n",
        "\n",
        "Unlike Generator expressions, list comprehensions are run in memory and evaluated immediately"
      ]
    },
    {
      "metadata": {
        "id": "lVhLoAQ2wiHP",
        "colab_type": "code",
        "outputId": "b24d1204-8e0c-4581-acd6-7b3018bb8c16",
        "colab": {
          "base_uri": "https://localhost:8080/",
          "height": 54
        }
      },
      "cell_type": "code",
      "source": [
        "print(new_phrases)"
      ],
      "execution_count": 0,
      "outputs": [
        {
          "output_type": "stream",
          "text": [
            "['Mixed Martial Arts is influenced by Sambo', 'Mixed Martial Arts is influenced by Muay Thai', 'Mixed Martial Arts is influenced by BJJ']\n"
          ],
          "name": "stdout"
        }
      ]
    },
    {
      "metadata": {
        "id": "quAhiuBw-sq9",
        "colab_type": "text"
      },
      "cell_type": "markdown",
      "source": [
        "### Understanding Sorting\n",
        "\n",
        "Python has powerful built-in sorting\n",
        "\n",
        "* *[Watch Video Lesson 3.6:  Understand sorting](https://www.safaribooksonline.com/videos/essential-machine-learning/9780135261118/9780135261118-EMLA_01_03_06)*\n"
      ]
    },
    {
      "metadata": {
        "id": "GC88vFkPQwLO",
        "colab_type": "text"
      },
      "cell_type": "markdown",
      "source": [
        "##### Using built-in sorting\n",
        "\n",
        "sorted is a built-in function"
      ]
    },
    {
      "metadata": {
        "id": "-7lMsgk3Qz0m",
        "colab_type": "code",
        "outputId": "e77446ff-cf0b-40ee-bfcc-04a66a59ce95",
        "colab": {
          "base_uri": "https://localhost:8080/",
          "height": 34
        }
      },
      "cell_type": "code",
      "source": [
        "martial_arts = [\"Sambo\", \"Muay Thai\", \"BJJ\"]\n",
        "sorted(martial_arts)"
      ],
      "execution_count": 0,
      "outputs": [
        {
          "output_type": "execute_result",
          "data": {
            "text/plain": [
              "['BJJ', 'Muay Thai', 'Sambo']"
            ]
          },
          "metadata": {
            "tags": []
          },
          "execution_count": 76
        }
      ]
    },
    {
      "metadata": {
        "id": "0bSBsDWrSQfw",
        "colab_type": "text"
      },
      "cell_type": "markdown",
      "source": [
        "Performance of sort can be easily benchmarked"
      ]
    },
    {
      "metadata": {
        "id": "oe666a6iR35S",
        "colab_type": "code",
        "outputId": "487b48e9-ae57-4537-88e4-f3ae25a72fab",
        "colab": {
          "base_uri": "https://localhost:8080/",
          "height": 72
        }
      },
      "cell_type": "code",
      "source": [
        "%timeit sorted(martial_arts)"
      ],
      "execution_count": 0,
      "outputs": [
        {
          "output_type": "stream",
          "text": [
            "The slowest run took 17.46 times longer than the fastest. This could mean that an intermediate result is being cached.\n",
            "1000000 loops, best of 3: 329 ns per loop\n"
          ],
          "name": "stdout"
        }
      ]
    },
    {
      "metadata": {
        "id": "i_Skh8l8S6re",
        "colab_type": "text"
      },
      "cell_type": "markdown",
      "source": [
        "##### Customizing sorting"
      ]
    },
    {
      "metadata": {
        "id": "GUsnX31VRxg4",
        "colab_type": "text"
      },
      "cell_type": "markdown",
      "source": [
        "Sorting can be reversed"
      ]
    },
    {
      "metadata": {
        "id": "VJsyTi9rRxsy",
        "colab_type": "code",
        "outputId": "8ab73b1f-6d1e-4b38-c1d0-3ebc54b2a587",
        "colab": {
          "base_uri": "https://localhost:8080/",
          "height": 34
        }
      },
      "cell_type": "code",
      "source": [
        "sorted(martial_arts, reverse=True)"
      ],
      "execution_count": 0,
      "outputs": [
        {
          "output_type": "execute_result",
          "data": {
            "text/plain": [
              "['Sambo', 'Muay Thai', 'BJJ']"
            ]
          },
          "metadata": {
            "tags": []
          },
          "execution_count": 78
        }
      ]
    },
    {
      "metadata": {
        "id": "OrWriGn-S_S6",
        "colab_type": "text"
      },
      "cell_type": "markdown",
      "source": [
        "Sorting can use custom keys including a custom function.\n",
        "In this case I have \"rigged\" the sort to always unsure BJJ is the first choice and others have a length of characters"
      ]
    },
    {
      "metadata": {
        "id": "IRoNvB9RS_fM",
        "colab_type": "code",
        "outputId": "5ef1457f-b254-4828-f5ad-e02f73d68300",
        "colab": {
          "base_uri": "https://localhost:8080/",
          "height": 34
        }
      },
      "cell_type": "code",
      "source": [
        "martial_arts = [\"Sambo\", \"Muay Thai\", \"BJJ\", \"AX\", \"Tire machèt\"]\n",
        "\n",
        "def best_martial_art(value):\n",
        "  if value == \"BJJ\":\n",
        "    return 1\n",
        "  return len(value) \n",
        "\n",
        "sorted(martial_arts, key=best_martial_art)"
      ],
      "execution_count": 0,
      "outputs": [
        {
          "output_type": "execute_result",
          "data": {
            "text/plain": [
              "['BJJ', 'AX', 'Sambo', 'Muay Thai', 'Tire machèt']"
            ]
          },
          "metadata": {
            "tags": []
          },
          "execution_count": 80
        }
      ]
    },
    {
      "metadata": {
        "id": "FJOmSmkOo6pY",
        "colab_type": "code",
        "colab": {}
      },
      "cell_type": "code",
      "source": [
        "#To Do\n",
        "## Create a custom alphabetical sort with BJJ as top"
      ],
      "execution_count": 0,
      "outputs": []
    },
    {
      "metadata": {
        "id": "8PvJTX-u-3Hz",
        "colab_type": "text"
      },
      "cell_type": "markdown",
      "source": [
        "### Python Regular Expressions\n",
        "\n",
        "It is very common to use regular expressions in Data work.  Explore these techniques in this sub-module.\n",
        "\n",
        "* [Watch Video Lesson 3.7:  Understand Python regular expressions](https://www.safaribooksonline.com/videos/essential-machine-learning/9780135261118/9780135261118-EMLA_01_03_07)\n"
      ]
    },
    {
      "metadata": {
        "id": "OHDcY-6IW3if",
        "colab_type": "text"
      },
      "cell_type": "markdown",
      "source": [
        "##### Using re.search\n",
        "\n",
        "A very basic regular expression pattern"
      ]
    },
    {
      "metadata": {
        "id": "IuqKpZUi-7Ie",
        "colab_type": "code",
        "outputId": "e396cf43-9f4b-4b3c-a264-e3a53d7f3f70",
        "colab": {
          "base_uri": "https://localhost:8080/",
          "height": 34
        }
      },
      "cell_type": "code",
      "source": [
        "import re\n",
        "phrase = \"I love the open-guard\"\n",
        "match = re.search(r'\\w+-guard', phrase)\n",
        "if match:\n",
        "  print(match.group())\n",
        "\n"
      ],
      "execution_count": 0,
      "outputs": [
        {
          "output_type": "stream",
          "text": [
            "open-guard\n"
          ],
          "name": "stdout"
        }
      ]
    },
    {
      "metadata": {
        "id": "YkeO2UUQW6-2",
        "colab_type": "text"
      },
      "cell_type": "markdown",
      "source": [
        "##### Using re.findall\n",
        "\n",
        "to find many results findall is very useful"
      ]
    },
    {
      "metadata": {
        "id": "GUHZy4gUW7PG",
        "colab_type": "code",
        "outputId": "f6a880b2-ef51-4bca-e44f-fd856b82663c",
        "colab": {
          "base_uri": "https://localhost:8080/",
          "height": 34
        }
      },
      "cell_type": "code",
      "source": [
        "phrase = \"I love the open-guard, closed-guard and deep-half-guard\"\n",
        "guards = re.findall(r'\\w+-guard', phrase)\n",
        "guards\n"
      ],
      "execution_count": 0,
      "outputs": [
        {
          "output_type": "execute_result",
          "data": {
            "text/plain": [
              "['open-guard', 'closed-guard', 'half-guard']"
            ]
          },
          "metadata": {
            "tags": []
          },
          "execution_count": 83
        }
      ]
    },
    {
      "metadata": {
        "id": "NKPx4S4GYd8f",
        "colab_type": "code",
        "colab": {}
      },
      "cell_type": "code",
      "source": [
        ""
      ],
      "execution_count": 0,
      "outputs": []
    },
    {
      "metadata": {
        "id": "bJJH_ybw-CkM",
        "colab_type": "text"
      },
      "cell_type": "markdown",
      "source": [
        "## Homework"
      ]
    },
    {
      "metadata": {
        "id": "Fr1NnKv3-JbT",
        "colab_type": "text"
      },
      "cell_type": "markdown",
      "source": [
        "### Watch Lesson 5:  Understand Python Classes"
      ]
    },
    {
      "metadata": {
        "id": "hlMLISAh-4wE",
        "colab_type": "text"
      },
      "cell_type": "markdown",
      "source": [
        "Go through lesson and make sure you understand how classes work by extending the inheritance workflow with your own class and method.\n",
        "\n",
        "[Lesson 5: Understand Python Classes](https://www.safaribooksonline.com/videos/essential-machine-learning/9780135261118/9780135261118-EMLA_01_05_00)"
      ]
    },
    {
      "metadata": {
        "id": "IdqC6jq5e4jd",
        "colab_type": "text"
      },
      "cell_type": "markdown",
      "source": [
        "## FAQ"
      ]
    },
    {
      "metadata": {
        "id": "AAYE0JnbZ79n",
        "colab_type": "text"
      },
      "cell_type": "markdown",
      "source": [
        "How do I find basic functions in python\n",
        "\n",
        "\n",
        "\n",
        "*   go to [python documention](https://docs.python.org/3/search.html?q=built+in+functions&check_keywords=yes&area=default)\n",
        "*   go to [standard library](https://docs.python.org/3/library/)\n",
        "*  here is [link for 3rd party](https://pypi.org/)\n",
        "\n"
      ]
    },
    {
      "metadata": {
        "id": "JDCJXAQLae7s",
        "colab_type": "text"
      },
      "cell_type": "markdown",
      "source": [
        "Given the Competitor class and the attributes set on the class's object at runtime, are those attributes publicly accessible or are getters/setters necessary?"
      ]
    },
    {
      "metadata": {
        "id": "I27fyW5Eah5d",
        "colab_type": "text"
      },
      "cell_type": "markdown",
      "source": [
        "class Foo(): pass\n",
        "\n"
      ]
    },
    {
      "metadata": {
        "id": "k-JPG7hKagL8",
        "colab_type": "code",
        "colab": {}
      },
      "cell_type": "code",
      "source": [
        "class Foo(): pass\n",
        "\n",
        "\n"
      ],
      "execution_count": 0,
      "outputs": []
    },
    {
      "metadata": {
        "id": "sFJoLHcWao8Q",
        "colab_type": "code",
        "outputId": "90fa5bb2-f821-4ecd-d681-faaeefdd00d5",
        "colab": {
          "base_uri": "https://localhost:8080/",
          "height": 34
        }
      },
      "cell_type": "code",
      "source": [
        "f = Foo()\n",
        "f.__val = 1\n",
        "f.__dict__"
      ],
      "execution_count": 0,
      "outputs": [
        {
          "output_type": "execute_result",
          "data": {
            "text/plain": [
              "{'__val': 1}"
            ]
          },
          "metadata": {
            "tags": []
          },
          "execution_count": 86
        }
      ]
    },
    {
      "metadata": {
        "id": "o2HhtJ5ga1n9",
        "colab_type": "text"
      },
      "cell_type": "markdown",
      "source": [
        "Is it compulsory to define self in the arguments for multi class/inheritance ? def length(self): and def length():"
      ]
    },
    {
      "metadata": {
        "id": "7zN_StSAa2pI",
        "colab_type": "text"
      },
      "cell_type": "markdown",
      "source": [
        "self is  convention"
      ]
    },
    {
      "metadata": {
        "id": "US_Kl6JnbA-H",
        "colab_type": "text"
      },
      "cell_type": "markdown",
      "source": [
        "Q:  this sorting - can it be used for air-bnb sort of situation, for example sort on various categories, like comfort, location, price, - 10 different keys . How complex with the sorting be ? "
      ]
    },
    {
      "metadata": {
        "id": "Baxu2B7FbNqq",
        "colab_type": "text"
      },
      "cell_type": "markdown",
      "source": [
        "Q:  How would a more customized sort function work with multiple attributes\n"
      ]
    },
    {
      "metadata": {
        "id": "dbq6INsFe4xV",
        "colab_type": "text"
      },
      "cell_type": "markdown",
      "source": [
        "### Question:  *Do \"pass\" and \"continue\" do the same thing in a loop?*\n"
      ]
    },
    {
      "metadata": {
        "id": "48dcE5GGfQje",
        "colab_type": "text"
      },
      "cell_type": "markdown",
      "source": [
        "**Answer: ** In most cases no.  Continue will skip the iteration of the loop where it is called and not run code below it.  A pass will skip the line of code it is called in but will run the code below it."
      ]
    },
    {
      "metadata": {
        "id": "N2igTxsEfcN3",
        "colab_type": "code",
        "colab": {}
      },
      "cell_type": "code",
      "source": [
        ""
      ],
      "execution_count": 0,
      "outputs": []
    },
    {
      "metadata": {
        "id": "_nJxgc5bb1qW",
        "colab_type": "text"
      },
      "cell_type": "markdown",
      "source": [
        "Q:  Q: is there anything like nvm for Node.js and RVM for Ruby, which enables switching between different Python versions?"
      ]
    },
    {
      "metadata": {
        "id": "T3j4Yn-3b3aB",
        "colab_type": "text"
      },
      "cell_type": "markdown",
      "source": [
        "* one is to use virtualenv\n",
        "* conda\n",
        "* pipenv"
      ]
    },
    {
      "metadata": {
        "id": "emc5DnDdb2zx",
        "colab_type": "code",
        "colab": {}
      },
      "cell_type": "code",
      "source": [
        ""
      ],
      "execution_count": 0,
      "outputs": []
    },
    {
      "metadata": {
        "id": "fQhEoJu1tNRe",
        "colab_type": "text"
      },
      "cell_type": "markdown",
      "source": [
        "## References"
      ]
    },
    {
      "metadata": {
        "id": "u6BaXDS7tQTD",
        "colab_type": "text"
      },
      "cell_type": "markdown",
      "source": [
        "*   [Pragmatic AI: An Introduction to Cloud-Based Machine Learning-Physical Book](http://www.informit.com/store/pragmatic-ai-an-introduction-to-cloud-based-machine-9780134863917)\n",
        "*   [Pragmatic AI: Pragmatic AI: An Introduction to Cloud-Based Machine Learning-SafariOnline Book](https://www.safaribooksonline.com/library/view/pragmatic-ai-an/9780134863924/)\n",
        "*  [Essential Machine Learning and AI with Python and Jupyter Notebook-Video-SafariOnline](https://www.safaribooksonline.com/videos/essential-machine-learning/9780135261118)\n",
        "* [Essential Machine Learning and AI with Python and Jupyter Notebook- Purchase Video](http://www.informit.com/store/essential-machine-learning-and-ai-with-python-and-jupyter-9780135261095)\n",
        "*   [noahgift.com](https://noahgift.com/)\n",
        "*   [paiml.com](https://paiml.com/)"
      ]
    }
  ]
}