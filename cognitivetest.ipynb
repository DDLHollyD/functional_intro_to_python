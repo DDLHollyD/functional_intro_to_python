{
  "nbformat": 4,
  "nbformat_minor": 0,
  "metadata": {
    "colab": {
      "name": "cognitivetest.ipynb",
      "provenance": [],
      "authorship_tag": "ABX9TyPxUScKbSaNYoTBPgaCmYrU",
      "include_colab_link": true
    },
    "kernelspec": {
      "name": "python3",
      "display_name": "Python 3"
    }
  },
  "cells": [
    {
      "cell_type": "markdown",
      "metadata": {
        "id": "view-in-github",
        "colab_type": "text"
      },
      "source": [
        "<a href=\"https://colab.research.google.com/github/noahgift/functional_intro_to_python/blob/master/cognitivetest.ipynb\" target=\"_parent\"><img src=\"https://colab.research.google.com/assets/colab-badge.svg\" alt=\"Open In Colab\"/></a>"
      ]
    },
    {
      "cell_type": "markdown",
      "metadata": {
        "id": "Qatg0EGOWI2R",
        "colab_type": "text"
      },
      "source": [
        "## Want to be president?  Just repeat this random string."
      ]
    },
    {
      "cell_type": "code",
      "metadata": {
        "id": "zr3nDvHZWBFS",
        "colab_type": "code",
        "colab": {}
      },
      "source": [
        "from random import choices"
      ],
      "execution_count": 1,
      "outputs": []
    },
    {
      "cell_type": "code",
      "metadata": {
        "id": "Ria_JCsNWSiT",
        "colab_type": "code",
        "colab": {
          "base_uri": "https://localhost:8080/",
          "height": 104
        },
        "outputId": "737289fa-d794-4e24-905d-93639321629c"
      },
      "source": [
        "words = [\"person\", \"women\", \"man\", \"camera\", \"tv\"]\n",
        "for word in words:\n",
        "    print(choices(words))"
      ],
      "execution_count": 4,
      "outputs": [
        {
          "output_type": "stream",
          "text": [
            "['camera']\n",
            "['camera']\n",
            "['women']\n",
            "['tv']\n",
            "['women']\n"
          ],
          "name": "stdout"
        }
      ]
    },
    {
      "cell_type": "code",
      "metadata": {
        "id": "rLR3ffXaWcY8",
        "colab_type": "code",
        "colab": {}
      },
      "source": [
        ""
      ],
      "execution_count": null,
      "outputs": []
    }
  ]
}